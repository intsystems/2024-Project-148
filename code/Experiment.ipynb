{
 "cells": [
  {
   "cell_type": "code",
   "execution_count": 74,
   "id": "5331b339-1ccf-42f8-8085-668d5b94d705",
   "metadata": {},
   "outputs": [],
   "source": [
    "import artm\n",
    "\n",
    "import os\n",
    "import matplotlib.pyplot as plt\n",
    "import numpy as np\n",
    "import pandas as pd\n",
    "import seaborn as sns\n",
    "import math\n",
    "\n",
    "import warnings\n",
    "warnings.filterwarnings(\"ignore\")\n",
    "\n",
    "from tqdm import tqdm\n",
    "\n",
    "sns.set(style=\"darkgrid\", palette=\"Set2\")\n",
    "\n",
    "from topicnet.dataset_manager import api\n",
    "\n",
    "# topicnet imports\n",
    "from topicnet.cooking_machine.cubes import (\n",
    "    CubeCreator,\n",
    "    GreedyStrategy,\n",
    "    PerplexityStrategy,\n",
    "    RegularizationControllerCube,\n",
    "    RegularizersModifierCube,\n",
    ")\n",
    "from topicnet.cooking_machine.dataset import Dataset\n",
    "from topicnet.cooking_machine.experiment import Experiment\n",
    "from topicnet.cooking_machine.models import BaseScore\n",
    "from topicnet.cooking_machine.models.topic_model import TopicModel\n",
    "from topicnet.cooking_machine.model_constructor import add_standard_scores\n",
    "from topicnet.cooking_machine.model_constructor import init_simple_default_model\n",
    "from topicnet.cooking_machine.pretty_output import make_notebook_pretty\n",
    "from topicnet.viewers.top_documents_viewer import TopDocumentsViewer\n",
    "from topicnet.viewers.top_tokens_viewer import TopTokensViewer"
   ]
  },
  {
   "cell_type": "code",
   "execution_count": 75,
   "id": "98facaad-1fd0-4f36-a8cd-a31a4772629f",
   "metadata": {},
   "outputs": [],
   "source": [
    "EXPERIMENT_PATH = './data/exp/'\n",
    "\n",
    "DATASET_PATH = './data/20_News_dataset/train_preprocessed.csv'"
   ]
  },
  {
   "cell_type": "markdown",
   "id": "cb1b8dec-5d58-4f99-8981-7e303c1a2dcc",
   "metadata": {},
   "source": [
    "### Обучаем тематическую модель"
   ]
  },
  {
   "cell_type": "code",
   "execution_count": 76,
   "id": "4595c10b-4072-4634-8b6e-2ce57b580ae8",
   "metadata": {},
   "outputs": [],
   "source": [
    "if not os.path.exists(EXPERIMENT_PATH):\n",
    "    os.mkdir(EXPERIMENT_PATH)\n",
    "else:\n",
    "    ! rm -rf $EXPERIMENT_PATH\n",
    "    os.mkdir(EXPERIMENT_PATH)"
   ]
  },
  {
   "cell_type": "code",
   "execution_count": 77,
   "id": "2b10d056-911f-43c0-9d35-93a323ec3bcf",
   "metadata": {},
   "outputs": [
    {
     "name": "stdout",
     "output_type": "stream",
     "text": [
      "CPU times: user 540 µs, sys: 344 µs, total: 884 µs\n",
      "Wall time: 259 µs\n"
     ]
    }
   ],
   "source": [
    "%%time\n",
    "\n",
    "from topicnet.cooking_machine.recipes import BaselineRecipe\n",
    "\n",
    "training_pipeline = BaselineRecipe()\n",
    "\n",
    "training_pipeline.format_recipe(\n",
    "    dataset_path=DATASET_PATH,\n",
    "    topic_number=10,\n",
    "    background_topic_number=1,\n",
    "    modality_list=['@lemmatized']\n",
    ");\n"
   ]
  },
  {
   "cell_type": "code",
   "execution_count": 78,
   "id": "c66c3e92-0895-4bb3-a62d-169f7f27141c",
   "metadata": {},
   "outputs": [],
   "source": [
    "experiment, dataset = training_pipeline.build_experiment_environment(save_path=EXPERIMENT_PATH,)\n"
   ]
  },
  {
   "cell_type": "code",
   "execution_count": 79,
   "id": "6dff3672-753f-4adb-b05f-ce1460a16ae8",
   "metadata": {},
   "outputs": [
    {
     "name": "stdout",
     "output_type": "stream",
     "text": [
      "CPU times: user 51min 15s, sys: 14min 43s, total: 1h 5min 58s\n",
      "Wall time: 22min 52s\n"
     ]
    }
   ],
   "source": [
    "%%time\n",
    "\n",
    "models = experiment.run(dataset)"
   ]
  },
  {
   "cell_type": "code",
   "execution_count": 80,
   "id": "d178eb16-d1ac-4fbb-a0ad-ae6932872872",
   "metadata": {},
   "outputs": [],
   "source": [
    "final_model = list(models)[0]"
   ]
  },
  {
   "cell_type": "code",
   "execution_count": 81,
   "id": "fd4e6171-4c45-477d-ab05-ded2660e78d7",
   "metadata": {},
   "outputs": [
    {
     "data": {
      "text/plain": [
       "<module 'utils' from '/home/linuxuser0x32/Documents/M1P/experiment/utils.py'>"
      ]
     },
     "execution_count": 81,
     "metadata": {},
     "output_type": "execute_result"
    }
   ],
   "source": [
    "import importlib\n",
    "importlib.reload(coherence_metrics)\n",
    "importlib.reload(chains_interpretability)\n",
    "importlib.reload(utils)"
   ]
  },
  {
   "cell_type": "code",
   "execution_count": 82,
   "id": "47464678-5681-4cfd-9b63-5155610be250",
   "metadata": {},
   "outputs": [],
   "source": [
    "import coherence_metrics \n",
    "import chains_interpretability\n",
    "import utils"
   ]
  },
  {
   "cell_type": "code",
   "execution_count": 83,
   "id": "d24e473f-8a72-46cc-9233-da57eb6b88ae",
   "metadata": {},
   "outputs": [],
   "source": [
    "ppmi = utils.PPMIHandler('ppmi_tf_')"
   ]
  },
  {
   "cell_type": "markdown",
   "id": "5e07fd27-5b82-4742-bb54-49163362f496",
   "metadata": {},
   "source": [
    "### Вычисляем интерпретируемость"
   ]
  },
  {
   "cell_type": "code",
   "execution_count": 89,
   "id": "ce60bf2c-905a-4358-9b00-aabd586803b2",
   "metadata": {},
   "outputs": [],
   "source": [
    "import json\n",
    "f = open('chains.json')\n",
    "chains = json.load(f)"
   ]
  },
  {
   "cell_type": "code",
   "execution_count": 90,
   "id": "56463631-b324-4b6d-93b7-82134dc47cdc",
   "metadata": {},
   "outputs": [],
   "source": [
    "class ChainsInterpretability:\n",
    "    def __init__(self, chains):\n",
    "        super().__init__()\n",
    "        self.chains = chains\n",
    "\n",
    "    def _get_topics(self, model):\n",
    "        return list(model.get_phi().columns)\n",
    "    \n",
    "    def _calculate_interpretability(self, topics, phi):\n",
    "        data = [[] for _ in range(len(topics))]\n",
    "        for chain in self.chains:\n",
    "            probs = phi.loc[list(chain)].to_numpy()\n",
    "            likelyhood = np.log(probs).sum(axis=0)\n",
    "            data[np.argmax(likelyhood)].append(np.max(likelyhood))\n",
    "        print([len(row) for row in data])\n",
    "        return [np.mean(row) if len(row) else -np.inf for row in data]\n",
    "\n",
    "    def call(self, model, modality='@lemmatized'):\n",
    "        topics = self._get_topics(model)\n",
    "        phi = model.get_phi().loc[modality]\n",
    "        result = self._calculate_interpretability(topics, phi)\n",
    "        return np.array(result)"
   ]
  },
  {
   "cell_type": "code",
   "execution_count": 91,
   "id": "1e749096-ae12-41dc-ab99-fdeac020bcf9",
   "metadata": {},
   "outputs": [
    {
     "name": "stdout",
     "output_type": "stream",
     "text": [
      "CPU times: user 14 µs, sys: 10 µs, total: 24 µs\n",
      "Wall time: 38.9 µs\n"
     ]
    }
   ],
   "source": [
    "%%time\n",
    "score = ChainsInterpretability(chains)"
   ]
  },
  {
   "cell_type": "code",
   "execution_count": 92,
   "id": "a6c5bfad-1f32-4ca7-8569-b11114503648",
   "metadata": {},
   "outputs": [
    {
     "name": "stdout",
     "output_type": "stream",
     "text": [
      "[4, 7, 17, 2, 13, 14, 1, 0, 2, 11, 17]\n",
      "CPU times: user 5.46 s, sys: 2.3 s, total: 7.76 s\n",
      "Wall time: 3.47 s\n"
     ]
    }
   ],
   "source": [
    "%%time\n",
    "inter = score.call(final_model)"
   ]
  },
  {
   "cell_type": "markdown",
   "id": "e7a5f4b1-e2d7-40f6-bf27-0a1d68d43219",
   "metadata": {},
   "source": [
    "### Вычисляем когерентности"
   ]
  },
  {
   "cell_type": "code",
   "execution_count": 84,
   "id": "9675ccc4-0a15-4aee-8d23-216e787026ba",
   "metadata": {},
   "outputs": [],
   "source": [
    "score = coherence_metrics.NewmanCoherence()"
   ]
  },
  {
   "cell_type": "code",
   "execution_count": 85,
   "id": "d8ec5efe-5f60-4b46-b423-2ed94a42f85a",
   "metadata": {},
   "outputs": [
    {
     "name": "stdout",
     "output_type": "stream",
     "text": [
      "CPU times: user 5.65 s, sys: 2.53 s, total: 8.17 s\n",
      "Wall time: 3.56 s\n"
     ]
    }
   ],
   "source": [
    "%%time\n",
    "newmanCoh10 = score.call(final_model, ppmi, k=10)"
   ]
  },
  {
   "cell_type": "code",
   "execution_count": 86,
   "id": "fc766651-be83-4fa1-aef9-c1cb1c27641d",
   "metadata": {},
   "outputs": [],
   "source": [
    "newmanCoh20 = score.call(final_model, ppmi, k=20)"
   ]
  },
  {
   "cell_type": "code",
   "execution_count": 87,
   "id": "8344740c-6530-4d56-93d3-59d216941900",
   "metadata": {},
   "outputs": [],
   "source": [
    "newmanCoh50 = score.call(final_model, ppmi, k=50)"
   ]
  },
  {
   "cell_type": "code",
   "execution_count": 88,
   "id": "a98e213a-014c-4beb-8b7f-269a552dce15",
   "metadata": {},
   "outputs": [],
   "source": [
    "newmanCoh100 = score.call(final_model, ppmi, k=100)"
   ]
  },
  {
   "cell_type": "code",
   "execution_count": 93,
   "id": "1db87506-14a2-4bd8-91e0-f34146b76a65",
   "metadata": {},
   "outputs": [],
   "source": [
    "mulCohScore = coherence_metrics.CustomRelCoherence(lambda x, y : x * y)\n",
    "mulCoh = mulCohScore.call(final_model, ppmi)"
   ]
  },
  {
   "cell_type": "code",
   "execution_count": 94,
   "id": "ea410d3d-346e-48b8-a044-58bfed6f99be",
   "metadata": {},
   "outputs": [
    {
     "name": "stdout",
     "output_type": "stream",
     "text": [
      "CPU times: user 50min 16s, sys: 25min 39s, total: 1h 15min 56s\n",
      "Wall time: 26min 54s\n"
     ]
    }
   ],
   "source": [
    "%%time\n",
    "sqrtCohScore = coherence_metrics.CustomRelCoherence(lambda x, y : math.sqrt(x * y))\n",
    "sqrtCoh = sqrtCohScore.call(final_model, ppmi)"
   ]
  },
  {
   "cell_type": "code",
   "execution_count": 95,
   "id": "7031b6de-cc0e-447a-8695-dca9a48cc0a6",
   "metadata": {},
   "outputs": [
    {
     "name": "stdout",
     "output_type": "stream",
     "text": [
      "CPU times: user 14min 15s, sys: 7min 6s, total: 21min 21s\n",
      "Wall time: 7min 48s\n"
     ]
    }
   ],
   "source": [
    "%%time\n",
    "multEpsCohScore = coherence_metrics.CustomRelCoherence(lambda x, y : x * y >= 1e-10)\n",
    "multEpsCohCoh = multEpsCohScore.call(final_model, ppmi)\n"
   ]
  },
  {
   "cell_type": "code",
   "execution_count": 96,
   "id": "d1e1e568-98da-46a5-93cd-6cf5b0aa3fe3",
   "metadata": {},
   "outputs": [
    {
     "name": "stdout",
     "output_type": "stream",
     "text": [
      "CPU times: user 33min 52s, sys: 15min 46s, total: 49min 38s\n",
      "Wall time: 19min 55s\n"
     ]
    }
   ],
   "source": [
    "%%time\n",
    "sumCohScore = coherence_metrics.CustomRelCoherence(lambda x, y : x + y if x > 0 and y > 0 else 0)\n",
    "sumCoh = sumCohScore.call(final_model, ppmi)"
   ]
  },
  {
   "cell_type": "code",
   "execution_count": 97,
   "id": "28154ab2-ae5e-48de-9b8e-e6924614db0a",
   "metadata": {},
   "outputs": [
    {
     "data": {
      "text/plain": [
       "array([-18.4004612 , -19.53823471, -16.94548035, -26.7927742 ,\n",
       "       -17.8148365 , -17.33802986, -11.61606979,         -inf,\n",
       "       -18.24101257, -20.45960808, -27.90028381])"
      ]
     },
     "execution_count": 97,
     "metadata": {},
     "output_type": "execute_result"
    }
   ],
   "source": [
    "inter"
   ]
  },
  {
   "cell_type": "code",
   "execution_count": 98,
   "id": "db241849-df2e-4638-b449-ef444bf1ffc8",
   "metadata": {},
   "outputs": [
    {
     "data": {
      "text/plain": [
       "<module 'utils' from '/home/linuxuser0x32/Documents/M1P/experiment/utils.py'>"
      ]
     },
     "execution_count": 98,
     "metadata": {},
     "output_type": "execute_result"
    }
   ],
   "source": [
    "import importlib\n",
    "importlib.reload(coherence_metrics)\n",
    "importlib.reload(chains_interpretability)\n",
    "importlib.reload(utils)"
   ]
  },
  {
   "cell_type": "code",
   "execution_count": 99,
   "id": "baecae53-7d39-4786-bf95-c970ea4eb635",
   "metadata": {},
   "outputs": [],
   "source": [
    "import coherence_metrics \n",
    "import chains_interpretability\n",
    "import utils"
   ]
  },
  {
   "cell_type": "code",
   "execution_count": 100,
   "id": "57157bb6-70cd-4a6f-b62a-98c2d6c5ac59",
   "metadata": {},
   "outputs": [],
   "source": [
    "del ms"
   ]
  },
  {
   "cell_type": "code",
   "execution_count": 101,
   "id": "1bb20574-dd4a-41b2-b016-d5ce4e329d95",
   "metadata": {},
   "outputs": [],
   "source": [
    "ms = utils.MetricsStorage()"
   ]
  },
  {
   "cell_type": "code",
   "execution_count": 102,
   "id": "00e7e305-9e1d-4d56-b5c7-d65d21194f8a",
   "metadata": {},
   "outputs": [],
   "source": [
    "ms.add('Newman_10', newmanCoh10)\n",
    "ms.add('Newman_20', newmanCoh20)\n",
    "ms.add('Newman_50', newmanCoh50)\n",
    "ms.add('Newman_100', newmanCoh100)\n",
    "ms.add(r'$\\phi_u \\phi_v$', mulCoh)\n",
    "ms.add(r'$[\\phi_u \\phi_v] > \\varepsilon$', multEpsCohCoh)\n",
    "ms.add(r'$[\\phi_u > 0][\\phi_v > 0] (\\phi_u + \\phi_v)$', sumCoh)\n",
    "ms.add(r'$\\sqrt{\\phi_u \\phi_v}$', sqrtCoh)\n"
   ]
  },
  {
   "cell_type": "code",
   "execution_count": 104,
   "id": "06ff089e-818e-410c-81bb-cbae34038fc6",
   "metadata": {},
   "outputs": [
    {
     "data": {
      "text/plain": [
       "(['Newman_10',\n",
       "  'Newman_20',\n",
       "  'Newman_50',\n",
       "  'Newman_100',\n",
       "  '$\\\\phi_u \\\\phi_v$',\n",
       "  '$[\\\\phi_u \\\\phi_v] > \\\\varepsilon$',\n",
       "  '$[\\\\phi_u > 0][\\\\phi_v > 0] (\\\\phi_u + \\\\phi_v)$',\n",
       "  '$\\\\sqrt{\\\\phi_u \\\\phi_v}$'],\n",
       " [0.16363636363636364,\n",
       "  -0.04242424242424241,\n",
       "  -0.18787878787878787,\n",
       "  -0.16363636363636364,\n",
       "  -0.18787878787878787,\n",
       "  0.11515151515151514,\n",
       "  0.0303030303030303,\n",
       "  -0.07878787878787878])"
      ]
     },
     "execution_count": 104,
     "metadata": {},
     "output_type": "execute_result"
    }
   ],
   "source": [
    "ms.getCorrelationList(inter[:10])"
   ]
  },
  {
   "cell_type": "code",
   "execution_count": 109,
   "id": "aaaaafa7-d2c9-4ab1-827f-b01444bb036d",
   "metadata": {},
   "outputs": [
    {
     "data": {
      "text/plain": [
       "Text(0, 0.5, 'Spearman correlation')"
      ]
     },
     "execution_count": 109,
     "metadata": {},
     "output_type": "execute_result"
    },
    {
     "data": {
      "image/png": "[encoded data removed]",
      "text/plain": [
       "<Figure size 1000x500 with 1 Axes>"
      ]
     },
     "metadata": {},
     "output_type": "display_data"
    }
   ],
   "source": [
    "plt.figure(figsize=(10, 5))\n",
    "plt.xticks(rotation=45)\n",
    "plt.bar(*ms.getCorrelationList(inter[:10]))\n",
    "plt.ylabel('Spearman correlation')"
   ]
  }
 ],
 "metadata": {
  "kernelspec": {
   "display_name": "Python 3 (ipykernel)",
   "language": "python",
   "name": "python3"
  },
  "language_info": {
   "codemirror_mode": {
    "name": "ipython",
    "version": 3
   },
   "file_extension": ".py",
   "mimetype": "text/x-python",
   "name": "python",
   "nbconvert_exporter": "python",
   "pygments_lexer": "ipython3",
   "version": "3.8.10"
  }
 },
 "nbformat": 4,
 "nbformat_minor": 5
}
