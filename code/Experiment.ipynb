{
 "cells": [
  {
   "cell_type": "code",
   "execution_count": 448,
   "id": "5331b339-1ccf-42f8-8085-668d5b94d705",
   "metadata": {},
   "outputs": [],
   "source": [
    "import artm\n",
    "\n",
    "import os\n",
    "import matplotlib.pyplot as plt\n",
    "import numpy as np\n",
    "import pandas as pd\n",
    "import seaborn as sns\n",
    "import math\n",
    "\n",
    "import warnings\n",
    "warnings.filterwarnings(\"ignore\")\n",
    "\n",
    "from tqdm import tqdm\n",
    "\n",
    "sns.set(style=\"darkgrid\", palette=\"Set2\")\n",
    "\n",
    "from topicnet.dataset_manager import api\n",
    "\n",
    "# topicnet imports\n",
    "from topicnet.cooking_machine.cubes import (\n",
    "    CubeCreator,\n",
    "    GreedyStrategy,\n",
    "    PerplexityStrategy,\n",
    "    RegularizationControllerCube,\n",
    "    RegularizersModifierCube,\n",
    ")\n",
    "from topicnet.cooking_machine.dataset import Dataset\n",
    "from topicnet.cooking_machine.experiment import Experiment\n",
    "from topicnet.cooking_machine.models import BaseScore\n",
    "from topicnet.cooking_machine.models.topic_model import TopicModel\n",
    "from topicnet.cooking_machine.model_constructor import add_standard_scores\n",
    "from topicnet.cooking_machine.model_constructor import init_simple_default_model\n",
    "from topicnet.cooking_machine.pretty_output import make_notebook_pretty\n",
    "from topicnet.viewers.top_documents_viewer import TopDocumentsViewer\n",
    "from topicnet.viewers.top_tokens_viewer import TopTokensViewer"
   ]
  },
  {
   "cell_type": "code",
   "execution_count": 2,
   "id": "98facaad-1fd0-4f36-a8cd-a31a4772629f",
   "metadata": {},
   "outputs": [],
   "source": [
    "EXPERIMENT_PATH = './data/exp/'\n",
    "\n",
    "DATASET_PATH = './data/20_News_dataset/train_preprocessed.csv'"
   ]
  },
  {
   "cell_type": "markdown",
   "id": "cb1b8dec-5d58-4f99-8981-7e303c1a2dcc",
   "metadata": {},
   "source": [
    "### Building topic model"
   ]
  },
  {
   "cell_type": "code",
   "execution_count": 3,
   "id": "4595c10b-4072-4634-8b6e-2ce57b580ae8",
   "metadata": {},
   "outputs": [],
   "source": [
    "if not os.path.exists(EXPERIMENT_PATH):\n",
    "    os.mkdir(EXPERIMENT_PATH)\n",
    "else:\n",
    "    ! rm -rf $EXPERIMENT_PATH\n",
    "    os.mkdir(EXPERIMENT_PATH)"
   ]
  },
  {
   "cell_type": "code",
   "execution_count": 4,
   "id": "2b10d056-911f-43c0-9d35-93a323ec3bcf",
   "metadata": {},
   "outputs": [
    {
     "name": "stdout",
     "output_type": "stream",
     "text": [
      "CPU times: user 25.6 ms, sys: 2.21 ms, total: 27.9 ms\n",
      "Wall time: 70.4 ms\n"
     ]
    }
   ],
   "source": [
    "%%time\n",
    "\n",
    "from topicnet.cooking_machine.recipes import BaselineRecipe\n",
    "\n",
    "training_pipeline = BaselineRecipe()\n",
    "\n",
    "training_pipeline.format_recipe(\n",
    "    dataset_path=DATASET_PATH,\n",
    "    topic_number=10,\n",
    "    background_topic_number=1,\n",
    "    modality_list=['@lemmatized']\n",
    ");\n"
   ]
  },
  {
   "cell_type": "code",
   "execution_count": 5,
   "id": "c66c3e92-0895-4bb3-a62d-169f7f27141c",
   "metadata": {},
   "outputs": [],
   "source": [
    "experiment, dataset = training_pipeline.build_experiment_environment(save_path=EXPERIMENT_PATH,)\n"
   ]
  },
  {
   "cell_type": "code",
   "execution_count": 538,
   "id": "d84909f7-d55b-4e15-a3db-026c8d522616",
   "metadata": {},
   "outputs": [],
   "source": [
    "dictionary = dataset.get_dictionary()"
   ]
  },
  {
   "cell_type": "code",
   "execution_count": 539,
   "id": "95927b06-0f53-40e3-95b4-f1b7b3784274",
   "metadata": {},
   "outputs": [
    {
     "data": {
      "text/plain": [
       "artm.Dictionary(name=77c0a772-193d-4259-ac2d-bd2e3c5104e8, num_entries=45596)"
      ]
     },
     "execution_count": 539,
     "metadata": {},
     "output_type": "execute_result"
    }
   ],
   "source": [
    "dictionary.filter(min_df=2, max_df_rate=0.8)"
   ]
  },
  {
   "cell_type": "code",
   "execution_count": 540,
   "id": "ea38a25b-41fe-4860-91d8-7453ad03e217",
   "metadata": {},
   "outputs": [],
   "source": [
    "dataset._cached_dict = dictionary"
   ]
  },
  {
   "cell_type": "code",
   "execution_count": 541,
   "id": "640d71c1-ed10-42c3-ab0e-e6a93d93a2f9",
   "metadata": {},
   "outputs": [
    {
     "data": {
      "text/plain": [
       "artm.Dictionary(name=77c0a772-193d-4259-ac2d-bd2e3c5104e8, num_entries=45596)"
      ]
     },
     "execution_count": 541,
     "metadata": {},
     "output_type": "execute_result"
    }
   ],
   "source": [
    "dataset.get_dictionary()"
   ]
  },
  {
   "cell_type": "code",
   "execution_count": null,
   "id": "af6540fb-c260-4978-bf83-151982626c98",
   "metadata": {},
   "outputs": [],
   "source": []
  },
  {
   "cell_type": "code",
   "execution_count": 6,
   "id": "6dff3672-753f-4adb-b05f-ce1460a16ae8",
   "metadata": {},
   "outputs": [
    {
     "name": "stdout",
     "output_type": "stream",
     "text": [
      "CPU times: user 49min 3s, sys: 8min 13s, total: 57min 16s\n",
      "Wall time: 25min 32s\n"
     ]
    }
   ],
   "source": [
    "%%time\n",
    "\n",
    "models = experiment.run(dataset)"
   ]
  },
  {
   "cell_type": "code",
   "execution_count": 7,
   "id": "d178eb16-d1ac-4fbb-a0ad-ae6932872872",
   "metadata": {},
   "outputs": [],
   "source": [
    "final_model = list(models)[0]"
   ]
  },
  {
   "cell_type": "code",
   "execution_count": 526,
   "id": "fd4e6171-4c45-477d-ab05-ded2660e78d7",
   "metadata": {},
   "outputs": [
    {
     "data": {
      "text/plain": [
       "<module 'utils' from '/home/linuxuser0x32/Documents/M1P/experiment/utils.py'>"
      ]
     },
     "execution_count": 526,
     "metadata": {},
     "output_type": "execute_result"
    }
   ],
   "source": [
    "import importlib\n",
    "importlib.reload(coherence_metrics)\n",
    "importlib.reload(chains_interpretability)\n",
    "importlib.reload(utils)"
   ]
  },
  {
   "cell_type": "code",
   "execution_count": 372,
   "id": "47464678-5681-4cfd-9b63-5155610be250",
   "metadata": {},
   "outputs": [],
   "source": [
    "import coherence_metrics \n",
    "import chains_interpretability\n",
    "import utils"
   ]
  },
  {
   "cell_type": "markdown",
   "id": "3016da50-00b7-433d-905b-99d164ae40cc",
   "metadata": {},
   "source": [
    "File  `cooc_tf_` was generated with BigARTM."
   ]
  },
  {
   "cell_type": "code",
   "execution_count": 258,
   "id": "d24e473f-8a72-46cc-9233-da57eb6b88ae",
   "metadata": {},
   "outputs": [],
   "source": [
    "cooc = utils.CoocHandler('cooc_tf_')"
   ]
  },
  {
   "cell_type": "markdown",
   "id": "8adbc191-17e9-4b63-91fc-9b34f0f1f468",
   "metadata": {},
   "source": [
    "### Why weithed coherency is cool"
   ]
  },
  {
   "cell_type": "markdown",
   "id": "0fbc54bc-5dd5-4b5c-b231-290aae3385f4",
   "metadata": {},
   "source": [
    "Let's visualize number of words that takes into account top words coherence and topic coherence."
   ]
  },
  {
   "cell_type": "code",
   "execution_count": 527,
   "id": "a01b300d-e75c-4597-966d-2e74577fec4f",
   "metadata": {},
   "outputs": [
    {
     "data": {
      "image/png": "[encoded data removed]",
      "text/plain": [
       "<PIL.Image.Image image mode=RGBA size=1000x400>"
      ]
     },
     "execution_count": 527,
     "metadata": {},
     "output_type": "execute_result"
    }
   ],
   "source": [
    "text = dataset.get_dataset().raw_text.loc['soc_religion_christian_20695']\n",
    "dist = final_model.get_phi().loc['@lemmatized']['topic_1']\n",
    "utils.compareTopWordsVsWeithedCoh(text, dist)"
   ]
  },
  {
   "cell_type": "markdown",
   "id": "5e07fd27-5b82-4742-bb54-49163362f496",
   "metadata": {},
   "source": [
    "### Calculating interpretability"
   ]
  },
  {
   "cell_type": "code",
   "execution_count": 366,
   "id": "ce60bf2c-905a-4358-9b00-aabd586803b2",
   "metadata": {},
   "outputs": [],
   "source": [
    "import json\n",
    "f = open('chains.json')\n",
    "chains = json.load(f)"
   ]
  },
  {
   "cell_type": "code",
   "execution_count": 389,
   "id": "1e749096-ae12-41dc-ab99-fdeac020bcf9",
   "metadata": {},
   "outputs": [
    {
     "name": "stdout",
     "output_type": "stream",
     "text": [
      "CPU times: user 28 µs, sys: 8 µs, total: 36 µs\n",
      "Wall time: 49.4 µs\n"
     ]
    }
   ],
   "source": [
    "%%time\n",
    "score = chains_interpretability.ChainsConsistency(chains)"
   ]
  },
  {
   "cell_type": "code",
   "execution_count": 390,
   "id": "cf4ab127-272b-415d-9b3d-c902a5a40957",
   "metadata": {},
   "outputs": [
    {
     "data": {
      "image/png": "[encoded data removed]",
      "text/plain": [
       "<Figure size 1000x300 with 2 Axes>"
      ]
     },
     "metadata": {},
     "output_type": "display_data"
    }
   ],
   "source": [
    "score.visualize(final_model)"
   ]
  },
  {
   "cell_type": "code",
   "execution_count": 536,
   "id": "ffbf37aa-d421-4935-93f9-3d4adea374ee",
   "metadata": {},
   "outputs": [
    {
     "data": {
      "text/html": [
       "<style>\n",
       "    div.output_html {\n",
       "        white-space: nowrap;\n",
       "    }\n",
       "    div .output_subarea > pre {\n",
       "        white-space: pre;\n",
       "        word-wrap: normal;\n",
       "    }\n",
       "    div .output_stdout > pre {\n",
       "        white-space: pre-wrap !important;\n",
       "        word-wrap:  break-word !important;\n",
       "    }\n",
       "    </style>"
      ],
      "text/plain": [
       "<IPython.core.display.HTML object>"
      ]
     },
     "metadata": {},
     "output_type": "display_data"
    },
    {
     "data": {
      "text/html": [
       "<style type=\"text/css\">\n",
       "</style>\n",
       "<table id=\"T_a123f\" style='display:inline'>\n",
       "  <thead>\n",
       "    <tr>\n",
       "      <th class=\"blank\" >&nbsp;</th>\n",
       "      <th class=\"blank level0\" >&nbsp;</th>\n",
       "      <th id=\"T_a123f_level0_col0\" class=\"col_heading level0 col0\" >topic_0</th>\n",
       "    </tr>\n",
       "    <tr>\n",
       "      <th class=\"index_name level0\" >modality</th>\n",
       "      <th class=\"index_name level1\" >token</th>\n",
       "      <th class=\"blank col0\" >&nbsp;</th>\n",
       "    </tr>\n",
       "  </thead>\n",
       "  <tbody>\n",
       "    <tr>\n",
       "      <th id=\"T_a123f_level0_row0\" class=\"row_heading level0 row0\" rowspan=\"10\">@lemmatized</th>\n",
       "      <th id=\"T_a123f_level1_row0\" class=\"row_heading level1 row0\" >israel</th>\n",
       "      <td id=\"T_a123f_row0_col0\" class=\"data row0 col0\" >1.597180</td>\n",
       "    </tr>\n",
       "    <tr>\n",
       "      <th id=\"T_a123f_level1_row1\" class=\"row_heading level1 row1\" >israeli</th>\n",
       "      <td id=\"T_a123f_row1_col0\" class=\"data row1 col0\" >1.239570</td>\n",
       "    </tr>\n",
       "    <tr>\n",
       "      <th id=\"T_a123f_level1_row2\" class=\"row_heading level1 row2\" >pt</th>\n",
       "      <td id=\"T_a123f_row2_col0\" class=\"data row2 col0\" >0.964060</td>\n",
       "    </tr>\n",
       "    <tr>\n",
       "      <th id=\"T_a123f_level1_row3\" class=\"row_heading level1 row3\" >arab</th>\n",
       "      <td id=\"T_a123f_row3_col0\" class=\"data row3 col0\" >0.905150</td>\n",
       "    </tr>\n",
       "    <tr>\n",
       "      <th id=\"T_a123f_level1_row4\" class=\"row_heading level1 row4\" >medical</th>\n",
       "      <td id=\"T_a123f_row4_col0\" class=\"data row4 col0\" >0.749430</td>\n",
       "    </tr>\n",
       "    <tr>\n",
       "      <th id=\"T_a123f_level1_row5\" class=\"row_heading level1 row5\" >health</th>\n",
       "      <td id=\"T_a123f_row5_col0\" class=\"data row5 col0\" >0.716010</td>\n",
       "    </tr>\n",
       "    <tr>\n",
       "      <th id=\"T_a123f_level1_row6\" class=\"row_heading level1 row6\" >period</th>\n",
       "      <td id=\"T_a123f_row6_col0\" class=\"data row6 col0\" >0.706520</td>\n",
       "    </tr>\n",
       "    <tr>\n",
       "      <th id=\"T_a123f_level1_row7\" class=\"row_heading level1 row7\" >patient</th>\n",
       "      <td id=\"T_a123f_row7_col0\" class=\"data row7 col0\" >0.620480</td>\n",
       "    </tr>\n",
       "    <tr>\n",
       "      <th id=\"T_a123f_level1_row8\" class=\"row_heading level1 row8\" >disease</th>\n",
       "      <td id=\"T_a123f_row8_col0\" class=\"data row8 col0\" >0.601600</td>\n",
       "    </tr>\n",
       "    <tr>\n",
       "      <th id=\"T_a123f_level1_row9\" class=\"row_heading level1 row9\" >la</th>\n",
       "      <td id=\"T_a123f_row9_col0\" class=\"data row9 col0\" >0.522830</td>\n",
       "    </tr>\n",
       "  </tbody>\n",
       "</table>\n",
       "&nbsp;<style type=\"text/css\">\n",
       "</style>\n",
       "<table id=\"T_effc7\" style='display:inline'>\n",
       "  <thead>\n",
       "    <tr>\n",
       "      <th class=\"blank\" >&nbsp;</th>\n",
       "      <th class=\"blank level0\" >&nbsp;</th>\n",
       "      <th id=\"T_effc7_level0_col0\" class=\"col_heading level0 col0\" >topic_1</th>\n",
       "    </tr>\n",
       "    <tr>\n",
       "      <th class=\"index_name level0\" >modality</th>\n",
       "      <th class=\"index_name level1\" >token</th>\n",
       "      <th class=\"blank col0\" >&nbsp;</th>\n",
       "    </tr>\n",
       "  </thead>\n",
       "  <tbody>\n",
       "    <tr>\n",
       "      <th id=\"T_effc7_level0_row0\" class=\"row_heading level0 row0\" rowspan=\"10\">@lemmatized</th>\n",
       "      <th id=\"T_effc7_level1_row0\" class=\"row_heading level1 row0\" >god</th>\n",
       "      <td id=\"T_effc7_row0_col0\" class=\"data row0 col0\" >1.086660</td>\n",
       "    </tr>\n",
       "    <tr>\n",
       "      <th id=\"T_effc7_level1_row1\" class=\"row_heading level1 row1\" >say</th>\n",
       "      <td id=\"T_effc7_row1_col0\" class=\"data row1 col0\" >0.624720</td>\n",
       "    </tr>\n",
       "    <tr>\n",
       "      <th id=\"T_effc7_level1_row2\" class=\"row_heading level1 row2\" >one</th>\n",
       "      <td id=\"T_effc7_row2_col0\" class=\"data row2 col0\" >0.559960</td>\n",
       "    </tr>\n",
       "    <tr>\n",
       "      <th id=\"T_effc7_level1_row3\" class=\"row_heading level1 row3\" >believe</th>\n",
       "      <td id=\"T_effc7_row3_col0\" class=\"data row3 col0\" >0.475010</td>\n",
       "    </tr>\n",
       "    <tr>\n",
       "      <th id=\"T_effc7_level1_row4\" class=\"row_heading level1 row4\" >christian</th>\n",
       "      <td id=\"T_effc7_row4_col0\" class=\"data row4 col0\" >0.466540</td>\n",
       "    </tr>\n",
       "    <tr>\n",
       "      <th id=\"T_effc7_level1_row5\" class=\"row_heading level1 row5\" >jesus</th>\n",
       "      <td id=\"T_effc7_row5_col0\" class=\"data row5 col0\" >0.462150</td>\n",
       "    </tr>\n",
       "    <tr>\n",
       "      <th id=\"T_effc7_level1_row6\" class=\"row_heading level1 row6\" >people</th>\n",
       "      <td id=\"T_effc7_row6_col0\" class=\"data row6 col0\" >0.459040</td>\n",
       "    </tr>\n",
       "    <tr>\n",
       "      <th id=\"T_effc7_level1_row7\" class=\"row_heading level1 row7\" >would</th>\n",
       "      <td id=\"T_effc7_row7_col0\" class=\"data row7 col0\" >0.380030</td>\n",
       "    </tr>\n",
       "    <tr>\n",
       "      <th id=\"T_effc7_level1_row8\" class=\"row_heading level1 row8\" >think</th>\n",
       "      <td id=\"T_effc7_row8_col0\" class=\"data row8 col0\" >0.371550</td>\n",
       "    </tr>\n",
       "    <tr>\n",
       "      <th id=\"T_effc7_level1_row9\" class=\"row_heading level1 row9\" >make</th>\n",
       "      <td id=\"T_effc7_row9_col0\" class=\"data row9 col0\" >0.358100</td>\n",
       "    </tr>\n",
       "  </tbody>\n",
       "</table>\n",
       "&nbsp;<style type=\"text/css\">\n",
       "</style>\n",
       "<table id=\"T_14d61\" style='display:inline'>\n",
       "  <thead>\n",
       "    <tr>\n",
       "      <th class=\"blank\" >&nbsp;</th>\n",
       "      <th class=\"blank level0\" >&nbsp;</th>\n",
       "      <th id=\"T_14d61_level0_col0\" class=\"col_heading level0 col0\" >topic_2</th>\n",
       "    </tr>\n",
       "    <tr>\n",
       "      <th class=\"index_name level0\" >modality</th>\n",
       "      <th class=\"index_name level1\" >token</th>\n",
       "      <th class=\"blank col0\" >&nbsp;</th>\n",
       "    </tr>\n",
       "  </thead>\n",
       "  <tbody>\n",
       "    <tr>\n",
       "      <th id=\"T_14d61_level0_row0\" class=\"row_heading level0 row0\" rowspan=\"10\">@lemmatized</th>\n",
       "      <th id=\"T_14d61_level1_row0\" class=\"row_heading level1 row0\" >file</th>\n",
       "      <td id=\"T_14d61_row0_col0\" class=\"data row0 col0\" >1.569760</td>\n",
       "    </tr>\n",
       "    <tr>\n",
       "      <th id=\"T_14d61_level1_row1\" class=\"row_heading level1 row1\" >window</th>\n",
       "      <td id=\"T_14d61_row1_col0\" class=\"data row1 col0\" >1.130270</td>\n",
       "    </tr>\n",
       "    <tr>\n",
       "      <th id=\"T_14d61_level1_row2\" class=\"row_heading level1 row2\" >use</th>\n",
       "      <td id=\"T_14d61_row2_col0\" class=\"data row2 col0\" >0.810960</td>\n",
       "    </tr>\n",
       "    <tr>\n",
       "      <th id=\"T_14d61_level1_row3\" class=\"row_heading level1 row3\" >program</th>\n",
       "      <td id=\"T_14d61_row3_col0\" class=\"data row3 col0\" >0.784140</td>\n",
       "    </tr>\n",
       "    <tr>\n",
       "      <th id=\"T_14d61_level1_row4\" class=\"row_heading level1 row4\" >image</th>\n",
       "      <td id=\"T_14d61_row4_col0\" class=\"data row4 col0\" >0.604690</td>\n",
       "    </tr>\n",
       "    <tr>\n",
       "      <th id=\"T_14d61_level1_row5\" class=\"row_heading level1 row5\" >version</th>\n",
       "      <td id=\"T_14d61_row5_col0\" class=\"data row5 col0\" >0.518730</td>\n",
       "    </tr>\n",
       "    <tr>\n",
       "      <th id=\"T_14d61_level1_row6\" class=\"row_heading level1 row6\" >available</th>\n",
       "      <td id=\"T_14d61_row6_col0\" class=\"data row6 col0\" >0.462480</td>\n",
       "    </tr>\n",
       "    <tr>\n",
       "      <th id=\"T_14d61_level1_row7\" class=\"row_heading level1 row7\" >server</th>\n",
       "      <td id=\"T_14d61_row7_col0\" class=\"data row7 col0\" >0.431580</td>\n",
       "    </tr>\n",
       "    <tr>\n",
       "      <th id=\"T_14d61_level1_row8\" class=\"row_heading level1 row8\" >ftp</th>\n",
       "      <td id=\"T_14d61_row8_col0\" class=\"data row8 col0\" >0.425780</td>\n",
       "    </tr>\n",
       "    <tr>\n",
       "      <th id=\"T_14d61_level1_row9\" class=\"row_heading level1 row9\" >display</th>\n",
       "      <td id=\"T_14d61_row9_col0\" class=\"data row9 col0\" >0.414410</td>\n",
       "    </tr>\n",
       "  </tbody>\n",
       "</table>\n",
       "&nbsp;<style type=\"text/css\">\n",
       "</style>\n",
       "<table id=\"T_4cdda\" style='display:inline'>\n",
       "  <thead>\n",
       "    <tr>\n",
       "      <th class=\"blank\" >&nbsp;</th>\n",
       "      <th class=\"blank level0\" >&nbsp;</th>\n",
       "      <th id=\"T_4cdda_level0_col0\" class=\"col_heading level0 col0\" >topic_3</th>\n",
       "    </tr>\n",
       "    <tr>\n",
       "      <th class=\"index_name level0\" >modality</th>\n",
       "      <th class=\"index_name level1\" >token</th>\n",
       "      <th class=\"blank col0\" >&nbsp;</th>\n",
       "    </tr>\n",
       "  </thead>\n",
       "  <tbody>\n",
       "    <tr>\n",
       "      <th id=\"T_4cdda_level0_row0\" class=\"row_heading level0 row0\" rowspan=\"10\">@lemmatized</th>\n",
       "      <th id=\"T_4cdda_level1_row0\" class=\"row_heading level1 row0\" >armenian</th>\n",
       "      <td id=\"T_4cdda_row0_col0\" class=\"data row0 col0\" >0.969800</td>\n",
       "    </tr>\n",
       "    <tr>\n",
       "      <th id=\"T_4cdda_level1_row1\" class=\"row_heading level1 row1\" >say</th>\n",
       "      <td id=\"T_4cdda_row1_col0\" class=\"data row1 col0\" >0.697430</td>\n",
       "    </tr>\n",
       "    <tr>\n",
       "      <th id=\"T_4cdda_level1_row2\" class=\"row_heading level1 row2\" >go</th>\n",
       "      <td id=\"T_4cdda_row2_col0\" class=\"data row2 col0\" >0.544910</td>\n",
       "    </tr>\n",
       "    <tr>\n",
       "      <th id=\"T_4cdda_level1_row3\" class=\"row_heading level1 row3\" >kill</th>\n",
       "      <td id=\"T_4cdda_row3_col0\" class=\"data row3 col0\" >0.527860</td>\n",
       "    </tr>\n",
       "    <tr>\n",
       "      <th id=\"T_4cdda_level1_row4\" class=\"row_heading level1 row4\" >people</th>\n",
       "      <td id=\"T_4cdda_row4_col0\" class=\"data row4 col0\" >0.473020</td>\n",
       "    </tr>\n",
       "    <tr>\n",
       "      <th id=\"T_4cdda_level1_row5\" class=\"row_heading level1 row5\" >war</th>\n",
       "      <td id=\"T_4cdda_row5_col0\" class=\"data row5 col0\" >0.428520</td>\n",
       "    </tr>\n",
       "    <tr>\n",
       "      <th id=\"T_4cdda_level1_row6\" class=\"row_heading level1 row6\" >turkish</th>\n",
       "      <td id=\"T_4cdda_row6_col0\" class=\"data row6 col0\" >0.422120</td>\n",
       "    </tr>\n",
       "    <tr>\n",
       "      <th id=\"T_4cdda_level1_row7\" class=\"row_heading level1 row7\" >one</th>\n",
       "      <td id=\"T_4cdda_row7_col0\" class=\"data row7 col0\" >0.369910</td>\n",
       "    </tr>\n",
       "    <tr>\n",
       "      <th id=\"T_4cdda_level1_row8\" class=\"row_heading level1 row8\" >come</th>\n",
       "      <td id=\"T_4cdda_row8_col0\" class=\"data row8 col0\" >0.364710</td>\n",
       "    </tr>\n",
       "    <tr>\n",
       "      <th id=\"T_4cdda_level1_row9\" class=\"row_heading level1 row9\" >u</th>\n",
       "      <td id=\"T_4cdda_row9_col0\" class=\"data row9 col0\" >0.329250</td>\n",
       "    </tr>\n",
       "  </tbody>\n",
       "</table>\n",
       "&nbsp;<style type=\"text/css\">\n",
       "</style>\n",
       "<table id=\"T_d83c7\" style='display:inline'>\n",
       "  <thead>\n",
       "    <tr>\n",
       "      <th class=\"blank\" >&nbsp;</th>\n",
       "      <th class=\"blank level0\" >&nbsp;</th>\n",
       "      <th id=\"T_d83c7_level0_col0\" class=\"col_heading level0 col0\" >topic_4</th>\n",
       "    </tr>\n",
       "    <tr>\n",
       "      <th class=\"index_name level0\" >modality</th>\n",
       "      <th class=\"index_name level1\" >token</th>\n",
       "      <th class=\"blank col0\" >&nbsp;</th>\n",
       "    </tr>\n",
       "  </thead>\n",
       "  <tbody>\n",
       "    <tr>\n",
       "      <th id=\"T_d83c7_level0_row0\" class=\"row_heading level0 row0\" rowspan=\"10\">@lemmatized</th>\n",
       "      <th id=\"T_d83c7_level1_row0\" class=\"row_heading level1 row0\" >drive</th>\n",
       "      <td id=\"T_d83c7_row0_col0\" class=\"data row0 col0\" >2.014710</td>\n",
       "    </tr>\n",
       "    <tr>\n",
       "      <th id=\"T_d83c7_level1_row1\" class=\"row_heading level1 row1\" >card</th>\n",
       "      <td id=\"T_d83c7_row1_col0\" class=\"data row1 col0\" >1.292260</td>\n",
       "    </tr>\n",
       "    <tr>\n",
       "      <th id=\"T_d83c7_level1_row2\" class=\"row_heading level1 row2\" >disk</th>\n",
       "      <td id=\"T_d83c7_row2_col0\" class=\"data row2 col0\" >0.968640</td>\n",
       "    </tr>\n",
       "    <tr>\n",
       "      <th id=\"T_d83c7_level1_row3\" class=\"row_heading level1 row3\" >scsi</th>\n",
       "      <td id=\"T_d83c7_row3_col0\" class=\"data row3 col0\" >0.765980</td>\n",
       "    </tr>\n",
       "    <tr>\n",
       "      <th id=\"T_d83c7_level1_row4\" class=\"row_heading level1 row4\" >driver</th>\n",
       "      <td id=\"T_d83c7_row4_col0\" class=\"data row4 col0\" >0.742010</td>\n",
       "    </tr>\n",
       "    <tr>\n",
       "      <th id=\"T_d83c7_level1_row5\" class=\"row_heading level1 row5\" >mac</th>\n",
       "      <td id=\"T_d83c7_row5_col0\" class=\"data row5 col0\" >0.610620</td>\n",
       "    </tr>\n",
       "    <tr>\n",
       "      <th id=\"T_d83c7_level1_row6\" class=\"row_heading level1 row6\" >system</th>\n",
       "      <td id=\"T_d83c7_row6_col0\" class=\"data row6 col0\" >0.595950</td>\n",
       "    </tr>\n",
       "    <tr>\n",
       "      <th id=\"T_d83c7_level1_row7\" class=\"row_heading level1 row7\" >memory</th>\n",
       "      <td id=\"T_d83c7_row7_col0\" class=\"data row7 col0\" >0.549340</td>\n",
       "    </tr>\n",
       "    <tr>\n",
       "      <th id=\"T_d83c7_level1_row8\" class=\"row_heading level1 row8\" >pc</th>\n",
       "      <td id=\"T_d83c7_row8_col0\" class=\"data row8 col0\" >0.535900</td>\n",
       "    </tr>\n",
       "    <tr>\n",
       "      <th id=\"T_d83c7_level1_row9\" class=\"row_heading level1 row9\" >monitor</th>\n",
       "      <td id=\"T_d83c7_row9_col0\" class=\"data row9 col0\" >0.532200</td>\n",
       "    </tr>\n",
       "  </tbody>\n",
       "</table>\n",
       "&nbsp;<style type=\"text/css\">\n",
       "</style>\n",
       "<table id=\"T_0f6a7\" style='display:inline'>\n",
       "  <thead>\n",
       "    <tr>\n",
       "      <th class=\"blank\" >&nbsp;</th>\n",
       "      <th class=\"blank level0\" >&nbsp;</th>\n",
       "      <th id=\"T_0f6a7_level0_col0\" class=\"col_heading level0 col0\" >topic_5</th>\n",
       "    </tr>\n",
       "    <tr>\n",
       "      <th class=\"index_name level0\" >modality</th>\n",
       "      <th class=\"index_name level1\" >token</th>\n",
       "      <th class=\"blank col0\" >&nbsp;</th>\n",
       "    </tr>\n",
       "  </thead>\n",
       "  <tbody>\n",
       "    <tr>\n",
       "      <th id=\"T_0f6a7_level0_row0\" class=\"row_heading level0 row0\" rowspan=\"10\">@lemmatized</th>\n",
       "      <th id=\"T_0f6a7_level1_row0\" class=\"row_heading level1 row0\" >key</th>\n",
       "      <td id=\"T_0f6a7_row0_col0\" class=\"data row0 col0\" >1.397820</td>\n",
       "    </tr>\n",
       "    <tr>\n",
       "      <th id=\"T_0f6a7_level1_row1\" class=\"row_heading level1 row1\" >space</th>\n",
       "      <td id=\"T_0f6a7_row1_col0\" class=\"data row1 col0\" >1.007970</td>\n",
       "    </tr>\n",
       "    <tr>\n",
       "      <th id=\"T_0f6a7_level1_row2\" class=\"row_heading level1 row2\" >information</th>\n",
       "      <td id=\"T_0f6a7_row2_col0\" class=\"data row2 col0\" >0.487230</td>\n",
       "    </tr>\n",
       "    <tr>\n",
       "      <th id=\"T_0f6a7_level1_row3\" class=\"row_heading level1 row3\" >encryption</th>\n",
       "      <td id=\"T_0f6a7_row3_col0\" class=\"data row3 col0\" >0.482330</td>\n",
       "    </tr>\n",
       "    <tr>\n",
       "      <th id=\"T_0f6a7_level1_row4\" class=\"row_heading level1 row4\" >chip</th>\n",
       "      <td id=\"T_0f6a7_row4_col0\" class=\"data row4 col0\" >0.441160</td>\n",
       "    </tr>\n",
       "    <tr>\n",
       "      <th id=\"T_0f6a7_level1_row5\" class=\"row_heading level1 row5\" >system</th>\n",
       "      <td id=\"T_0f6a7_row5_col0\" class=\"data row5 col0\" >0.439150</td>\n",
       "    </tr>\n",
       "    <tr>\n",
       "      <th id=\"T_0f6a7_level1_row6\" class=\"row_heading level1 row6\" >data</th>\n",
       "      <td id=\"T_0f6a7_row6_col0\" class=\"data row6 col0\" >0.436210</td>\n",
       "    </tr>\n",
       "    <tr>\n",
       "      <th id=\"T_0f6a7_level1_row7\" class=\"row_heading level1 row7\" >technology</th>\n",
       "      <td id=\"T_0f6a7_row7_col0\" class=\"data row7 col0\" >0.433030</td>\n",
       "    </tr>\n",
       "    <tr>\n",
       "      <th id=\"T_0f6a7_level1_row8\" class=\"row_heading level1 row8\" >launch</th>\n",
       "      <td id=\"T_0f6a7_row8_col0\" class=\"data row8 col0\" >0.370660</td>\n",
       "    </tr>\n",
       "    <tr>\n",
       "      <th id=\"T_0f6a7_level1_row9\" class=\"row_heading level1 row9\" >use</th>\n",
       "      <td id=\"T_0f6a7_row9_col0\" class=\"data row9 col0\" >0.366990</td>\n",
       "    </tr>\n",
       "  </tbody>\n",
       "</table>\n",
       "&nbsp;<style type=\"text/css\">\n",
       "</style>\n",
       "<table id=\"T_eee7c\" style='display:inline'>\n",
       "  <thead>\n",
       "    <tr>\n",
       "      <th class=\"blank\" >&nbsp;</th>\n",
       "      <th class=\"blank level0\" >&nbsp;</th>\n",
       "      <th id=\"T_eee7c_level0_col0\" class=\"col_heading level0 col0\" >topic_6</th>\n",
       "    </tr>\n",
       "    <tr>\n",
       "      <th class=\"index_name level0\" >modality</th>\n",
       "      <th class=\"index_name level1\" >token</th>\n",
       "      <th class=\"blank col0\" >&nbsp;</th>\n",
       "    </tr>\n",
       "  </thead>\n",
       "  <tbody>\n",
       "    <tr>\n",
       "      <th id=\"T_eee7c_level0_row0\" class=\"row_heading level0 row0\" rowspan=\"10\">@lemmatized</th>\n",
       "      <th id=\"T_eee7c_level1_row0\" class=\"row_heading level1 row0\" >state</th>\n",
       "      <td id=\"T_eee7c_row0_col0\" class=\"data row0 col0\" >0.728680</td>\n",
       "    </tr>\n",
       "    <tr>\n",
       "      <th id=\"T_eee7c_level1_row1\" class=\"row_heading level1 row1\" >people</th>\n",
       "      <td id=\"T_eee7c_row1_col0\" class=\"data row1 col0\" >0.714610</td>\n",
       "    </tr>\n",
       "    <tr>\n",
       "      <th id=\"T_eee7c_level1_row2\" class=\"row_heading level1 row2\" >would</th>\n",
       "      <td id=\"T_eee7c_row2_col0\" class=\"data row2 col0\" >0.654870</td>\n",
       "    </tr>\n",
       "    <tr>\n",
       "      <th id=\"T_eee7c_level1_row3\" class=\"row_heading level1 row3\" >government</th>\n",
       "      <td id=\"T_eee7c_row3_col0\" class=\"data row3 col0\" >0.599860</td>\n",
       "    </tr>\n",
       "    <tr>\n",
       "      <th id=\"T_eee7c_level1_row4\" class=\"row_heading level1 row4\" >right</th>\n",
       "      <td id=\"T_eee7c_row4_col0\" class=\"data row4 col0\" >0.598490</td>\n",
       "    </tr>\n",
       "    <tr>\n",
       "      <th id=\"T_eee7c_level1_row5\" class=\"row_heading level1 row5\" >law</th>\n",
       "      <td id=\"T_eee7c_row5_col0\" class=\"data row5 col0\" >0.591600</td>\n",
       "    </tr>\n",
       "    <tr>\n",
       "      <th id=\"T_eee7c_level1_row6\" class=\"row_heading level1 row6\" >gun</th>\n",
       "      <td id=\"T_eee7c_row6_col0\" class=\"data row6 col0\" >0.577570</td>\n",
       "    </tr>\n",
       "    <tr>\n",
       "      <th id=\"T_eee7c_level1_row7\" class=\"row_heading level1 row7\" >make</th>\n",
       "      <td id=\"T_eee7c_row7_col0\" class=\"data row7 col0\" >0.463140</td>\n",
       "    </tr>\n",
       "    <tr>\n",
       "      <th id=\"T_eee7c_level1_row8\" class=\"row_heading level1 row8\" >mr</th>\n",
       "      <td id=\"T_eee7c_row8_col0\" class=\"data row8 col0\" >0.366150</td>\n",
       "    </tr>\n",
       "    <tr>\n",
       "      <th id=\"T_eee7c_level1_row9\" class=\"row_heading level1 row9\" >think</th>\n",
       "      <td id=\"T_eee7c_row9_col0\" class=\"data row9 col0\" >0.346800</td>\n",
       "    </tr>\n",
       "  </tbody>\n",
       "</table>\n",
       "&nbsp;<style type=\"text/css\">\n",
       "</style>\n",
       "<table id=\"T_e0c8d\" style='display:inline'>\n",
       "  <thead>\n",
       "    <tr>\n",
       "      <th class=\"blank\" >&nbsp;</th>\n",
       "      <th class=\"blank level0\" >&nbsp;</th>\n",
       "      <th id=\"T_e0c8d_level0_col0\" class=\"col_heading level0 col0\" >topic_7</th>\n",
       "    </tr>\n",
       "    <tr>\n",
       "      <th class=\"index_name level0\" >modality</th>\n",
       "      <th class=\"index_name level1\" >token</th>\n",
       "      <th class=\"blank col0\" >&nbsp;</th>\n",
       "    </tr>\n",
       "  </thead>\n",
       "  <tbody>\n",
       "    <tr>\n",
       "      <th id=\"T_e0c8d_level0_row0\" class=\"row_heading level0 row0\" rowspan=\"10\">@lemmatized</th>\n",
       "      <th id=\"T_e0c8d_level1_row0\" class=\"row_heading level1 row0\" >db</th>\n",
       "      <td id=\"T_e0c8d_row0_col0\" class=\"data row0 col0\" >1.722910</td>\n",
       "    </tr>\n",
       "    <tr>\n",
       "      <th id=\"T_e0c8d_level1_row1\" class=\"row_heading level1 row1\" >entry</th>\n",
       "      <td id=\"T_e0c8d_row1_col0\" class=\"data row1 col0\" >1.559840</td>\n",
       "    </tr>\n",
       "    <tr>\n",
       "      <th id=\"T_e0c8d_level1_row2\" class=\"row_heading level1 row2\" >theory</th>\n",
       "      <td id=\"T_e0c8d_row2_col0\" class=\"data row2 col0\" >0.620680</td>\n",
       "    </tr>\n",
       "    <tr>\n",
       "      <th id=\"T_e0c8d_level1_row3\" class=\"row_heading level1 row3\" >rule</th>\n",
       "      <td id=\"T_e0c8d_row3_col0\" class=\"data row3 col0\" >0.557020</td>\n",
       "    </tr>\n",
       "    <tr>\n",
       "      <th id=\"T_e0c8d_level1_row4\" class=\"row_heading level1 row4\" >science</th>\n",
       "      <td id=\"T_e0c8d_row4_col0\" class=\"data row4 col0\" >0.555910</td>\n",
       "    </tr>\n",
       "    <tr>\n",
       "      <th id=\"T_e0c8d_level1_row5\" class=\"row_heading level1 row5\" >buf</th>\n",
       "      <td id=\"T_e0c8d_row5_col0\" class=\"data row5 col0\" >0.532240</td>\n",
       "    </tr>\n",
       "    <tr>\n",
       "      <th id=\"T_e0c8d_level1_row6\" class=\"row_heading level1 row6\" >posting</th>\n",
       "      <td id=\"T_e0c8d_row6_col0\" class=\"data row6 col0\" >0.474020</td>\n",
       "    </tr>\n",
       "    <tr>\n",
       "      <th id=\"T_e0c8d_level1_row7\" class=\"row_heading level1 row7\" >section</th>\n",
       "      <td id=\"T_e0c8d_row7_col0\" class=\"data row7 col0\" >0.445000</td>\n",
       "    </tr>\n",
       "    <tr>\n",
       "      <th id=\"T_e0c8d_level1_row8\" class=\"row_heading level1 row8\" >post</th>\n",
       "      <td id=\"T_e0c8d_row8_col0\" class=\"data row8 col0\" >0.406600</td>\n",
       "    </tr>\n",
       "    <tr>\n",
       "      <th id=\"T_e0c8d_level1_row9\" class=\"row_heading level1 row9\" >bos</th>\n",
       "      <td id=\"T_e0c8d_row9_col0\" class=\"data row9 col0\" >0.399840</td>\n",
       "    </tr>\n",
       "  </tbody>\n",
       "</table>\n",
       "&nbsp;<style type=\"text/css\">\n",
       "</style>\n",
       "<table id=\"T_1c9b0\" style='display:inline'>\n",
       "  <thead>\n",
       "    <tr>\n",
       "      <th class=\"blank\" >&nbsp;</th>\n",
       "      <th class=\"blank level0\" >&nbsp;</th>\n",
       "      <th id=\"T_1c9b0_level0_col0\" class=\"col_heading level0 col0\" >topic_8</th>\n",
       "    </tr>\n",
       "    <tr>\n",
       "      <th class=\"index_name level0\" >modality</th>\n",
       "      <th class=\"index_name level1\" >token</th>\n",
       "      <th class=\"blank col0\" >&nbsp;</th>\n",
       "    </tr>\n",
       "  </thead>\n",
       "  <tbody>\n",
       "    <tr>\n",
       "      <th id=\"T_1c9b0_level0_row0\" class=\"row_heading level0 row0\" rowspan=\"10\">@lemmatized</th>\n",
       "      <th id=\"T_1c9b0_level1_row0\" class=\"row_heading level1 row0\" >game</th>\n",
       "      <td id=\"T_1c9b0_row0_col0\" class=\"data row0 col0\" >1.640310</td>\n",
       "    </tr>\n",
       "    <tr>\n",
       "      <th id=\"T_1c9b0_level1_row1\" class=\"row_heading level1 row1\" >team</th>\n",
       "      <td id=\"T_1c9b0_row1_col0\" class=\"data row1 col0\" >1.175830</td>\n",
       "    </tr>\n",
       "    <tr>\n",
       "      <th id=\"T_1c9b0_level1_row2\" class=\"row_heading level1 row2\" >play</th>\n",
       "      <td id=\"T_1c9b0_row2_col0\" class=\"data row2 col0\" >0.924230</td>\n",
       "    </tr>\n",
       "    <tr>\n",
       "      <th id=\"T_1c9b0_level1_row3\" class=\"row_heading level1 row3\" >player</th>\n",
       "      <td id=\"T_1c9b0_row3_col0\" class=\"data row3 col0\" >0.742300</td>\n",
       "    </tr>\n",
       "    <tr>\n",
       "      <th id=\"T_1c9b0_level1_row4\" class=\"row_heading level1 row4\" >win</th>\n",
       "      <td id=\"T_1c9b0_row4_col0\" class=\"data row4 col0\" >0.689380</td>\n",
       "    </tr>\n",
       "    <tr>\n",
       "      <th id=\"T_1c9b0_level1_row5\" class=\"row_heading level1 row5\" >year</th>\n",
       "      <td id=\"T_1c9b0_row5_col0\" class=\"data row5 col0\" >0.684300</td>\n",
       "    </tr>\n",
       "    <tr>\n",
       "      <th id=\"T_1c9b0_level1_row6\" class=\"row_heading level1 row6\" >season</th>\n",
       "      <td id=\"T_1c9b0_row6_col0\" class=\"data row6 col0\" >0.563100</td>\n",
       "    </tr>\n",
       "    <tr>\n",
       "      <th id=\"T_1c9b0_level1_row7\" class=\"row_heading level1 row7\" >hockey</th>\n",
       "      <td id=\"T_1c9b0_row7_col0\" class=\"data row7 col0\" >0.430960</td>\n",
       "    </tr>\n",
       "    <tr>\n",
       "      <th id=\"T_1c9b0_level1_row8\" class=\"row_heading level1 row8\" >league</th>\n",
       "      <td id=\"T_1c9b0_row8_col0\" class=\"data row8 col0\" >0.411030</td>\n",
       "    </tr>\n",
       "    <tr>\n",
       "      <th id=\"T_1c9b0_level1_row9\" class=\"row_heading level1 row9\" >stephanopoulos</th>\n",
       "      <td id=\"T_1c9b0_row9_col0\" class=\"data row9 col0\" >0.400730</td>\n",
       "    </tr>\n",
       "  </tbody>\n",
       "</table>\n",
       "&nbsp;<style type=\"text/css\">\n",
       "</style>\n",
       "<table id=\"T_46934\" style='display:inline'>\n",
       "  <thead>\n",
       "    <tr>\n",
       "      <th class=\"blank\" >&nbsp;</th>\n",
       "      <th class=\"blank level0\" >&nbsp;</th>\n",
       "      <th id=\"T_46934_level0_col0\" class=\"col_heading level0 col0\" >topic_9</th>\n",
       "    </tr>\n",
       "    <tr>\n",
       "      <th class=\"index_name level0\" >modality</th>\n",
       "      <th class=\"index_name level1\" >token</th>\n",
       "      <th class=\"blank col0\" >&nbsp;</th>\n",
       "    </tr>\n",
       "  </thead>\n",
       "  <tbody>\n",
       "    <tr>\n",
       "      <th id=\"T_46934_level0_row0\" class=\"row_heading level0 row0\" rowspan=\"10\">@lemmatized</th>\n",
       "      <th id=\"T_46934_level1_row0\" class=\"row_heading level1 row0\" >car</th>\n",
       "      <td id=\"T_46934_row0_col0\" class=\"data row0 col0\" >0.853550</td>\n",
       "    </tr>\n",
       "    <tr>\n",
       "      <th id=\"T_46934_level1_row1\" class=\"row_heading level1 row1\" >bike</th>\n",
       "      <td id=\"T_46934_row1_col0\" class=\"data row1 col0\" >0.365570</td>\n",
       "    </tr>\n",
       "    <tr>\n",
       "      <th id=\"T_46934_level1_row2\" class=\"row_heading level1 row2\" >get</th>\n",
       "      <td id=\"T_46934_row2_col0\" class=\"data row2 col0\" >0.360470</td>\n",
       "    </tr>\n",
       "    <tr>\n",
       "      <th id=\"T_46934_level1_row3\" class=\"row_heading level1 row3\" >power</th>\n",
       "      <td id=\"T_46934_row3_col0\" class=\"data row3 col0\" >0.289600</td>\n",
       "    </tr>\n",
       "    <tr>\n",
       "      <th id=\"T_46934_level1_row4\" class=\"row_heading level1 row4\" >ground</th>\n",
       "      <td id=\"T_46934_row4_col0\" class=\"data row4 col0\" >0.286480</td>\n",
       "    </tr>\n",
       "    <tr>\n",
       "      <th id=\"T_46934_level1_row5\" class=\"row_heading level1 row5\" >wire</th>\n",
       "      <td id=\"T_46934_row5_col0\" class=\"data row5 col0\" >0.279800</td>\n",
       "    </tr>\n",
       "    <tr>\n",
       "      <th id=\"T_46934_level1_row6\" class=\"row_heading level1 row6\" >use</th>\n",
       "      <td id=\"T_46934_row6_col0\" class=\"data row6 col0\" >0.276850</td>\n",
       "    </tr>\n",
       "    <tr>\n",
       "      <th id=\"T_46934_level1_row7\" class=\"row_heading level1 row7\" >good</th>\n",
       "      <td id=\"T_46934_row7_col0\" class=\"data row7 col0\" >0.274300</td>\n",
       "    </tr>\n",
       "    <tr>\n",
       "      <th id=\"T_46934_level1_row8\" class=\"row_heading level1 row8\" >back</th>\n",
       "      <td id=\"T_46934_row8_col0\" class=\"data row8 col0\" >0.272050</td>\n",
       "    </tr>\n",
       "    <tr>\n",
       "      <th id=\"T_46934_level1_row9\" class=\"row_heading level1 row9\" >much</th>\n",
       "      <td id=\"T_46934_row9_col0\" class=\"data row9 col0\" >0.268530</td>\n",
       "    </tr>\n",
       "  </tbody>\n",
       "</table>\n",
       "&nbsp;<style type=\"text/css\">\n",
       "</style>\n",
       "<table id=\"T_2b2f4\" style='display:inline'>\n",
       "  <thead>\n",
       "    <tr>\n",
       "      <th class=\"blank\" >&nbsp;</th>\n",
       "      <th class=\"blank level0\" >&nbsp;</th>\n",
       "      <th id=\"T_2b2f4_level0_col0\" class=\"col_heading level0 col0\" >bcg_10</th>\n",
       "    </tr>\n",
       "    <tr>\n",
       "      <th class=\"index_name level0\" >modality</th>\n",
       "      <th class=\"index_name level1\" >token</th>\n",
       "      <th class=\"blank col0\" >&nbsp;</th>\n",
       "    </tr>\n",
       "  </thead>\n",
       "  <tbody>\n",
       "    <tr>\n",
       "      <th id=\"T_2b2f4_level0_row0\" class=\"row_heading level0 row0\" rowspan=\"10\">@lemmatized</th>\n",
       "      <th id=\"T_2b2f4_level1_row0\" class=\"row_heading level1 row0\" >would</th>\n",
       "      <td id=\"T_2b2f4_row0_col0\" class=\"data row0 col0\" >0.071770</td>\n",
       "    </tr>\n",
       "    <tr>\n",
       "      <th id=\"T_2b2f4_level1_row1\" class=\"row_heading level1 row1\" >get</th>\n",
       "      <td id=\"T_2b2f4_row1_col0\" class=\"data row1 col0\" >0.071220</td>\n",
       "    </tr>\n",
       "    <tr>\n",
       "      <th id=\"T_2b2f4_level1_row2\" class=\"row_heading level1 row2\" >one</th>\n",
       "      <td id=\"T_2b2f4_row2_col0\" class=\"data row2 col0\" >0.062480</td>\n",
       "    </tr>\n",
       "    <tr>\n",
       "      <th id=\"T_2b2f4_level1_row3\" class=\"row_heading level1 row3\" >know</th>\n",
       "      <td id=\"T_2b2f4_row3_col0\" class=\"data row3 col0\" >0.052860</td>\n",
       "    </tr>\n",
       "    <tr>\n",
       "      <th id=\"T_2b2f4_level1_row4\" class=\"row_heading level1 row4\" >like</th>\n",
       "      <td id=\"T_2b2f4_row4_col0\" class=\"data row4 col0\" >0.048400</td>\n",
       "    </tr>\n",
       "    <tr>\n",
       "      <th id=\"T_2b2f4_level1_row5\" class=\"row_heading level1 row5\" >use</th>\n",
       "      <td id=\"T_2b2f4_row5_col0\" class=\"data row5 col0\" >0.044940</td>\n",
       "    </tr>\n",
       "    <tr>\n",
       "      <th id=\"T_2b2f4_level1_row6\" class=\"row_heading level1 row6\" >think</th>\n",
       "      <td id=\"T_2b2f4_row6_col0\" class=\"data row6 col0\" >0.035740</td>\n",
       "    </tr>\n",
       "    <tr>\n",
       "      <th id=\"T_2b2f4_level1_row7\" class=\"row_heading level1 row7\" >go</th>\n",
       "      <td id=\"T_2b2f4_row7_col0\" class=\"data row7 col0\" >0.027960</td>\n",
       "    </tr>\n",
       "    <tr>\n",
       "      <th id=\"T_2b2f4_level1_row8\" class=\"row_heading level1 row8\" >good</th>\n",
       "      <td id=\"T_2b2f4_row8_col0\" class=\"data row8 col0\" >0.027790</td>\n",
       "    </tr>\n",
       "    <tr>\n",
       "      <th id=\"T_2b2f4_level1_row9\" class=\"row_heading level1 row9\" >anyone</th>\n",
       "      <td id=\"T_2b2f4_row9_col0\" class=\"data row9 col0\" >0.027330</td>\n",
       "    </tr>\n",
       "  </tbody>\n",
       "</table>\n"
      ]
     },
     "metadata": {},
     "output_type": "display_data"
    }
   ],
   "source": [
    "TopTokensViewer(final_model).view_from_jupyter(one_topic_per_row=False)"
   ]
  },
  {
   "cell_type": "code",
   "execution_count": 369,
   "id": "a6c5bfad-1f32-4ca7-8569-b11114503648",
   "metadata": {},
   "outputs": [
    {
     "name": "stdout",
     "output_type": "stream",
     "text": [
      "CPU times: user 1min 26s, sys: 36 s, total: 2min 2s\n",
      "Wall time: 51.7 s\n"
     ]
    }
   ],
   "source": [
    "%%time\n",
    "inter = score.call(final_model)"
   ]
  },
  {
   "cell_type": "markdown",
   "id": "e7a5f4b1-e2d7-40f6-bf27-0a1d68d43219",
   "metadata": {},
   "source": [
    "### Calculating coherence"
   ]
  },
  {
   "cell_type": "markdown",
   "id": "c7d14495-5bad-4286-b72d-827c8e6a8fb8",
   "metadata": {},
   "source": [
    "#### Top words cohenrece"
   ]
  },
  {
   "cell_type": "code",
   "execution_count": 270,
   "id": "9675ccc4-0a15-4aee-8d23-216e787026ba",
   "metadata": {},
   "outputs": [
    {
     "name": "stdout",
     "output_type": "stream",
     "text": [
      "CPU times: user 15.3 s, sys: 4.61 s, total: 19.9 s\n",
      "Wall time: 11.2 s\n"
     ]
    }
   ],
   "source": [
    "%%time\n",
    "pmi_top10_score = coherence_metrics.NewmanCoherence(cooc.pmi, 10)\n",
    "pmi_top10 = pmi_top10_score.call(final_model)"
   ]
  },
  {
   "cell_type": "code",
   "execution_count": 271,
   "id": "d8ec5efe-5f60-4b46-b423-2ed94a42f85a",
   "metadata": {},
   "outputs": [
    {
     "name": "stdout",
     "output_type": "stream",
     "text": [
      "CPU times: user 20.7 s, sys: 445 ms, total: 21.2 s\n",
      "Wall time: 11.6 s\n"
     ]
    }
   ],
   "source": [
    "%%time\n",
    "pmi_top20_score = coherence_metrics.NewmanCoherence(cooc.pmi, 20)\n",
    "pmi_top20 = pmi_top20_score.call(final_model)"
   ]
  },
  {
   "cell_type": "code",
   "execution_count": 272,
   "id": "fc766651-be83-4fa1-aef9-c1cb1c27641d",
   "metadata": {},
   "outputs": [
    {
     "name": "stdout",
     "output_type": "stream",
     "text": [
      "CPU times: user 15.3 s, sys: 6.87 s, total: 22.2 s\n",
      "Wall time: 12.1 s\n"
     ]
    }
   ],
   "source": [
    "%%time\n",
    "pmi_top50_score = coherence_metrics.NewmanCoherence(cooc.pmi, 50)\n",
    "pmi_top50 = pmi_top50_score.call(final_model)"
   ]
  },
  {
   "cell_type": "code",
   "execution_count": 273,
   "id": "8344740c-6530-4d56-93d3-59d216941900",
   "metadata": {},
   "outputs": [
    {
     "name": "stdout",
     "output_type": "stream",
     "text": [
      "CPU times: user 21.2 s, sys: 4.14 s, total: 25.3 s\n",
      "Wall time: 13.2 s\n"
     ]
    }
   ],
   "source": [
    "%%time\n",
    "pmi_top100_score = coherence_metrics.NewmanCoherence(cooc.pmi, 100)\n",
    "pmi_top100 = pmi_top100_score.call(final_model)"
   ]
  },
  {
   "cell_type": "markdown",
   "id": "8e8d58b7-71af-40d1-a9c7-4def309607da",
   "metadata": {},
   "source": [
    "#### $\\phi_{ut} \\phi_{vt}$"
   ]
  },
  {
   "cell_type": "code",
   "execution_count": 73,
   "id": "51a29b45-0ff3-4e1e-a396-7ccc06af5b69",
   "metadata": {},
   "outputs": [
    {
     "name": "stdout",
     "output_type": "stream",
     "text": [
      "CPU times: user 24min 53s, sys: 6min 33s, total: 31min 26s\n",
      "Wall time: 16min 23s\n"
     ]
    }
   ],
   "source": [
    "%%time\n",
    "ppmi_mul_score = coherence_metrics.CustomRelCoherence(lambda x, y : x * y,  cooc.ppmi)\n",
    "ppmi_mul = ppmi_mul_score.call(final_model)"
   ]
  },
  {
   "cell_type": "code",
   "execution_count": 79,
   "id": "a0e5973e-b0ef-403f-8db7-62f05b36f68f",
   "metadata": {},
   "outputs": [
    {
     "name": "stdout",
     "output_type": "stream",
     "text": [
      "CPU times: user 27min 22s, sys: 7min 34s, total: 34min 56s\n",
      "Wall time: 17min 48s\n"
     ]
    }
   ],
   "source": [
    "%%time\n",
    "npmi_mul_score = coherence_metrics.CustomRelCoherence(lambda x, y : x * y,  cooc.npmi)\n",
    "npmi_mul = npmi_mul_score.call(final_model)"
   ]
  },
  {
   "cell_type": "code",
   "execution_count": 80,
   "id": "ea21a0d4-81db-4484-acbb-24b8dc7bec12",
   "metadata": {},
   "outputs": [
    {
     "name": "stdout",
     "output_type": "stream",
     "text": [
      "CPU times: user 23min 18s, sys: 5min 55s, total: 29min 13s\n",
      "Wall time: 15min 40s\n"
     ]
    }
   ],
   "source": [
    "%%time\n",
    "pmi_mul_score = coherence_metrics.CustomRelCoherence(lambda x, y : x * y,  cooc.pmi)\n",
    "pmi_mul = pmi_mul_score.call(final_model)"
   ]
  },
  {
   "cell_type": "code",
   "execution_count": 81,
   "id": "91c6311d-1f30-4c59-bbd1-760553a15edd",
   "metadata": {},
   "outputs": [
    {
     "name": "stdout",
     "output_type": "stream",
     "text": [
      "CPU times: user 26min 33s, sys: 7min 14s, total: 33min 48s\n",
      "Wall time: 17min 23s\n"
     ]
    }
   ],
   "source": [
    "%%time\n",
    "pmi2_mul_score = coherence_metrics.CustomRelCoherence(lambda x, y : x * y,  cooc.pmi2)\n",
    "pmi2_mul = pmi2_mul_score.call(final_model)"
   ]
  },
  {
   "cell_type": "code",
   "execution_count": 82,
   "id": "fdd84781-f9ce-4358-9b00-2bc4cd19afe1",
   "metadata": {},
   "outputs": [
    {
     "name": "stdout",
     "output_type": "stream",
     "text": [
      "CPU times: user 19min 25s, sys: 4min 40s, total: 24min 5s\n",
      "Wall time: 13min 27s\n"
     ]
    }
   ],
   "source": [
    "%%time\n",
    "pmi3_mul_score = coherence_metrics.CustomRelCoherence(lambda x, y : x * y,  cooc.pmi3)\n",
    "pmi3_mul = pmi3_mul_score.call(final_model)"
   ]
  },
  {
   "cell_type": "markdown",
   "id": "718338a0-ddf7-4c30-9bbe-b4e7fa6e1bdd",
   "metadata": {},
   "source": [
    "#### $\\sqrt{\\phi_{ut} \\phi_{vt}}$"
   ]
  },
  {
   "cell_type": "code",
   "execution_count": 100,
   "id": "ea410d3d-346e-48b8-a044-58bfed6f99be",
   "metadata": {},
   "outputs": [
    {
     "name": "stdout",
     "output_type": "stream",
     "text": [
      "CPU times: user 28min 8s, sys: 7min 50s, total: 35min 59s\n",
      "Wall time: 19min 10s\n"
     ]
    }
   ],
   "source": [
    "%%time\n",
    "pmi_geom_score = coherence_metrics.CustomRelCoherence(lambda x, y : math.sqrt(x * y),  cooc.pmi)\n",
    "pmi_geom = pmi_geom_score.call(final_model)"
   ]
  },
  {
   "cell_type": "code",
   "execution_count": 101,
   "id": "8d4f267f-1527-44fb-b6e3-bf33230f8123",
   "metadata": {},
   "outputs": [
    {
     "name": "stdout",
     "output_type": "stream",
     "text": [
      "CPU times: user 33min 54s, sys: 10min 14s, total: 44min 8s\n",
      "Wall time: 22min 20s\n"
     ]
    }
   ],
   "source": [
    "%%time\n",
    "ppmi_geom_score = coherence_metrics.CustomRelCoherence(lambda x, y : math.sqrt(x * y),  cooc.ppmi)\n",
    "ppmi_geom = ppmi_geom_score.call(final_model)"
   ]
  },
  {
   "cell_type": "code",
   "execution_count": 120,
   "id": "74178d48-47fb-4468-b651-19e0c00e95b6",
   "metadata": {},
   "outputs": [
    {
     "name": "stdout",
     "output_type": "stream",
     "text": [
      "CPU times: user 23min, sys: 6min 7s, total: 29min 7s\n",
      "Wall time: 16min 20s\n"
     ]
    }
   ],
   "source": [
    "%%time\n",
    "npmi_geom_score = coherence_metrics.CustomRelCoherence(lambda x, y : math.sqrt(x * y),  cooc.npmi)\n",
    "npmi_geom = npmi_geom_score.call(final_model)"
   ]
  },
  {
   "cell_type": "code",
   "execution_count": 103,
   "id": "7031b6de-cc0e-447a-8695-dca9a48cc0a6",
   "metadata": {},
   "outputs": [
    {
     "name": "stdout",
     "output_type": "stream",
     "text": [
      "CPU times: user 25min 15s, sys: 6min 54s, total: 32min 9s\n",
      "Wall time: 17min 31s\n"
     ]
    }
   ],
   "source": [
    "%%time\n",
    "pmi2_geom_score = coherence_metrics.CustomRelCoherence(lambda x, y : math.sqrt(x * y),  cooc.pmi2)\n",
    "pmi2_geom = pmi2_geom_score.call(final_model)"
   ]
  },
  {
   "cell_type": "code",
   "execution_count": 104,
   "id": "d1e1e568-98da-46a5-93cd-6cf5b0aa3fe3",
   "metadata": {},
   "outputs": [
    {
     "name": "stdout",
     "output_type": "stream",
     "text": [
      "CPU times: user 22min 49s, sys: 5min 51s, total: 28min 41s\n",
      "Wall time: 16min 12s\n"
     ]
    }
   ],
   "source": [
    "%%time\n",
    "pmi3_geom_score = coherence_metrics.CustomRelCoherence(lambda x, y : math.sqrt(x * y),  cooc.pmi3)\n",
    "pmi3_geom = pmi3_geom_score.call(final_model)"
   ]
  },
  {
   "cell_type": "markdown",
   "id": "a9bff403-8220-4673-9dd7-89b7be987c78",
   "metadata": {},
   "source": [
    "#### $(\\phi_{ut} + \\phi_{vt})[\\phi_{ut} > 0] [\\phi_{vt} > 0]$"
   ]
  },
  {
   "cell_type": "code",
   "execution_count": 105,
   "id": "64a19527-43a5-4b8a-a7a3-9ab5c4160cd1",
   "metadata": {},
   "outputs": [
    {
     "name": "stdout",
     "output_type": "stream",
     "text": [
      "CPU times: user 31min 10s, sys: 8min 47s, total: 39min 57s\n",
      "Wall time: 21min 17s\n"
     ]
    }
   ],
   "source": [
    "%%time\n",
    "pmi_sum_score = coherence_metrics.CustomRelCoherence(lambda x, y : (x + y) * (x > 0) * (y > 0),  cooc.pmi)\n",
    "pmi_sum = pmi_sum_score.call(final_model)"
   ]
  },
  {
   "cell_type": "code",
   "execution_count": 106,
   "id": "c933eb5f-d325-4e46-9c23-a6bacbe0e44e",
   "metadata": {},
   "outputs": [
    {
     "name": "stdout",
     "output_type": "stream",
     "text": [
      "CPU times: user 26min 16s, sys: 6min 57s, total: 33min 14s\n",
      "Wall time: 18min 31s\n"
     ]
    }
   ],
   "source": [
    "%%time\n",
    "ppmi_sum_score = coherence_metrics.CustomRelCoherence(lambda x, y : (x + y) * (x > 0) * (y > 0),  cooc.ppmi)\n",
    "ppmi_sum = ppmi_sum_score.call(final_model)"
   ]
  },
  {
   "cell_type": "code",
   "execution_count": 121,
   "id": "be6870da-a4c4-4bf2-9b19-70e6ed04926d",
   "metadata": {},
   "outputs": [
    {
     "name": "stdout",
     "output_type": "stream",
     "text": [
      "CPU times: user 26min 31s, sys: 7min 14s, total: 33min 45s\n",
      "Wall time: 18min 43s\n"
     ]
    }
   ],
   "source": [
    "%%time\n",
    "npmi_sum_score = coherence_metrics.CustomRelCoherence(lambda x, y : (x + y) * (x > 0) * (y > 0),  cooc.npmi)\n",
    "npmi_sum = npmi_sum_score.call(final_model)"
   ]
  },
  {
   "cell_type": "code",
   "execution_count": 108,
   "id": "e180c7fe-cc98-42ab-93c4-473880889f4f",
   "metadata": {},
   "outputs": [
    {
     "name": "stdout",
     "output_type": "stream",
     "text": [
      "CPU times: user 29min 27s, sys: 8min 14s, total: 37min 41s\n",
      "Wall time: 20min 27s\n"
     ]
    }
   ],
   "source": [
    "%%time\n",
    "pmi2_sum_score = coherence_metrics.CustomRelCoherence(lambda x, y : (x + y) * (x > 0) * (y > 0),  cooc.pmi2)\n",
    "pmi2_sum = pmi2_sum_score.call(final_model)"
   ]
  },
  {
   "cell_type": "code",
   "execution_count": 109,
   "id": "e0c18dae-cd31-43c2-8aaf-d99362508c5e",
   "metadata": {},
   "outputs": [
    {
     "name": "stdout",
     "output_type": "stream",
     "text": [
      "CPU times: user 26min 49s, sys: 7min 5s, total: 33min 55s\n",
      "Wall time: 18min 58s\n"
     ]
    }
   ],
   "source": [
    "%%time\n",
    "pmi3_sum_score = coherence_metrics.CustomRelCoherence(lambda x, y : (x + y) * (x > 0) * (y > 0),  cooc.pmi3)\n",
    "pmi3_sum = pmi3_sum_score.call(final_model)"
   ]
  },
  {
   "cell_type": "markdown",
   "id": "2b805e4e-80a3-4032-b39d-2abd2524441d",
   "metadata": {},
   "source": [
    "#### $[\\phi_{ut}  \\phi_{vt} \\ge \\varepsilon]$\n",
    "\n",
    "Let's take $\\varepsilon = \\frac {1} {{\\vert W \\vert }^2}$ "
   ]
  },
  {
   "cell_type": "code",
   "execution_count": 110,
   "id": "efda8703-8e60-4dd9-b2e7-26fcf0e644d2",
   "metadata": {},
   "outputs": [],
   "source": [
    "W = final_model.get_phi().loc['@lemmatized'].shape[0]\n",
    "eps = W ** (-2)"
   ]
  },
  {
   "cell_type": "code",
   "execution_count": 111,
   "id": "a7114253-9d66-4396-9695-2d960922ec68",
   "metadata": {},
   "outputs": [
    {
     "name": "stdout",
     "output_type": "stream",
     "text": [
      "CPU times: user 11min 57s, sys: 4min 2s, total: 15min 59s\n",
      "Wall time: 7min 36s\n"
     ]
    }
   ],
   "source": [
    "%%time\n",
    "pmi_indmul_score = coherence_metrics.CustomRelCoherence(lambda x, y : x * y >= eps,  cooc.pmi)\n",
    "pmi_indmul = pmi_indmul_score.call(final_model)"
   ]
  },
  {
   "cell_type": "code",
   "execution_count": 112,
   "id": "075f3dfb-2115-4c33-8ddb-08da4d782e2a",
   "metadata": {},
   "outputs": [
    {
     "name": "stdout",
     "output_type": "stream",
     "text": [
      "CPU times: user 11min 58s, sys: 4min 6s, total: 16min 4s\n",
      "Wall time: 7min 35s\n"
     ]
    }
   ],
   "source": [
    "%%time\n",
    "ppmi_indmul_score = coherence_metrics.CustomRelCoherence(lambda x, y : x * y >= eps,  cooc.ppmi)\n",
    "ppmi_indmul = ppmi_indmul_score.call(final_model)"
   ]
  },
  {
   "cell_type": "code",
   "execution_count": 113,
   "id": "49c6a3d2-b69c-4bd5-a4bc-5cbe17867ab5",
   "metadata": {},
   "outputs": [
    {
     "name": "stdout",
     "output_type": "stream",
     "text": [
      "CPU times: user 9min 22s, sys: 2min 53s, total: 12min 16s\n",
      "Wall time: 6min 17s\n"
     ]
    }
   ],
   "source": [
    "%%time\n",
    "npmi_indmul_score = coherence_metrics.CustomRelCoherence(lambda x, y : x * y >= eps,  cooc.npmi)\n",
    "npmi_indmul = npmi_indmul_score.call(final_model)"
   ]
  },
  {
   "cell_type": "code",
   "execution_count": 114,
   "id": "43156c76-b911-4054-b55b-29bd04799525",
   "metadata": {},
   "outputs": [
    {
     "name": "stdout",
     "output_type": "stream",
     "text": [
      "CPU times: user 9min, sys: 2min 43s, total: 11min 44s\n",
      "Wall time: 6min 4s\n"
     ]
    }
   ],
   "source": [
    "%%time\n",
    "pmi2_indmul_score = coherence_metrics.CustomRelCoherence(lambda x, y : x * y >= eps,  cooc.pmi2)\n",
    "pmi2_indmul = pmi2_indmul_score.call(final_model)"
   ]
  },
  {
   "cell_type": "code",
   "execution_count": 115,
   "id": "abf7a410-426e-48eb-b464-b8240da90254",
   "metadata": {},
   "outputs": [
    {
     "name": "stdout",
     "output_type": "stream",
     "text": [
      "CPU times: user 7min 59s, sys: 2min 16s, total: 10min 16s\n",
      "Wall time: 5min 31s\n"
     ]
    }
   ],
   "source": [
    "%%time\n",
    "pmi3_indmul_score = coherence_metrics.CustomRelCoherence(lambda x, y : x * y >= eps,  cooc.pmi3)\n",
    "pmi3_indmul = pmi3_indmul_score.call(final_model)"
   ]
  },
  {
   "cell_type": "code",
   "execution_count": 177,
   "id": "28154ab2-ae5e-48de-9b8e-e6924614db0a",
   "metadata": {},
   "outputs": [
    {
     "data": {
      "text/plain": [
       "array([-18.40047073, -19.5382328 , -16.94548035, -26.7927742 ,\n",
       "       -17.81483459, -17.33803177, -11.61606979,         -inf,\n",
       "       -18.24100876, -20.45960808, -27.90028381])"
      ]
     },
     "execution_count": 177,
     "metadata": {},
     "output_type": "execute_result"
    }
   ],
   "source": [
    "inter"
   ]
  },
  {
   "cell_type": "code",
   "execution_count": 248,
   "id": "db241849-df2e-4638-b449-ef444bf1ffc8",
   "metadata": {},
   "outputs": [
    {
     "data": {
      "text/plain": [
       "<module 'utils' from '/home/linuxuser0x32/Documents/M1P/experiment/utils.py'>"
      ]
     },
     "execution_count": 248,
     "metadata": {},
     "output_type": "execute_result"
    }
   ],
   "source": [
    "import importlib\n",
    "importlib.reload(coherence_metrics)\n",
    "importlib.reload(chains_interpretability)\n",
    "importlib.reload(utils)"
   ]
  },
  {
   "cell_type": "code",
   "execution_count": 249,
   "id": "baecae53-7d39-4786-bf95-c970ea4eb635",
   "metadata": {},
   "outputs": [],
   "source": [
    "import coherence_metrics \n",
    "import chains_interpretability\n",
    "import utils"
   ]
  },
  {
   "cell_type": "markdown",
   "id": "7dff6f86-faeb-4615-baf4-3b047d37b9ea",
   "metadata": {},
   "source": [
    "### Results"
   ]
  },
  {
   "cell_type": "code",
   "execution_count": 274,
   "id": "57157bb6-70cd-4a6f-b62a-98c2d6c5ac59",
   "metadata": {},
   "outputs": [],
   "source": [
    "del ms"
   ]
  },
  {
   "cell_type": "code",
   "execution_count": 355,
   "id": "1bb20574-dd4a-41b2-b016-d5ce4e329d95",
   "metadata": {},
   "outputs": [],
   "source": [
    "ms = utils.MetricsStorage()\n",
    "# decomment string below to load metrics from json, if u dont want to rerun experiment\n",
    "# newMs.loadJson(\"sample.json\") "
   ]
  },
  {
   "cell_type": "code",
   "execution_count": 356,
   "id": "00e7e305-9e1d-4d56-b5c7-d65d21194f8a",
   "metadata": {},
   "outputs": [],
   "source": [
    "ms.add('Newman_10', pmi_top10)\n",
    "ms.add('Newman_20', pmi_top20)\n",
    "ms.add('Newman_50', pmi_top50)\n",
    "ms.add('Newman_100', pmi_top100)\n",
    "ms.add(r'$PPMI, \\phi_u \\phi_v$', ppmi_mul)\n",
    "ms.add(r'$PMI, \\phi_u \\phi_v$', pmi_mul)\n",
    "ms.add(r'$NPMI, \\phi_u \\phi_v$', npmi_mul)\n",
    "ms.add(r'$PMI2, \\phi_u \\phi_v$', pmi2_mul)\n",
    "ms.add(r'$PMI3, \\phi_u \\phi_v$', pmi3_mul)\n",
    "ms.add(r'$PPMI, \\sqrt{\\phi_u \\phi_v}$', ppmi_geom)\n",
    "ms.add(r'$PMI, \\sqrt{\\phi_u \\phi_v}$', pmi_geom)\n",
    "ms.add(r'$NPMI, \\sqrt{\\phi_u \\phi_v}$', npmi_geom)\n",
    "ms.add(r'$PMI2, \\sqrt{\\phi_u \\phi_v}$', pmi2_geom)\n",
    "ms.add(r'$PMI3, \\sqrt{\\phi_u \\phi_v}$', pmi3_geom)\n",
    "ms.add(r'$PPMI, [\\phi_u > 0][\\phi_v > 0] (\\phi_u + \\phi_v)$', ppmi_sum)\n",
    "ms.add(r'$PMI, [\\phi_u > 0][\\phi_v > 0] (\\phi_u + \\phi_v)$', pmi_sum)\n",
    "ms.add(r'$NPMI, [\\phi_u > 0][\\phi_v > 0] (\\phi_u + \\phi_v)$', npmi_sum)\n",
    "ms.add(r'$PMI2, [\\phi_u > 0][\\phi_v > 0] (\\phi_u + \\phi_v)$', pmi2_sum)\n",
    "ms.add(r'$PMI3, [\\phi_u > 0][\\phi_v > 0] (\\phi_u + \\phi_v)$', pmi3_sum)\n",
    "ms.add(r'$PPMI, [\\phi_u \\phi_v] > \\varepsilon$', ppmi_indmul)\n",
    "ms.add(r'$PMI, [\\phi_u \\phi_v] > \\varepsilon$', pmi_indmul)\n",
    "ms.add(r'$NPMI, [\\phi_u \\phi_v] > \\varepsilon$', npmi_indmul)\n",
    "ms.add(r'$PMI2, [\\phi_u \\phi_v] > \\varepsilon$', pmi2_indmul)\n",
    "ms.add(r'$PMI3, [\\phi_u \\phi_v] > \\varepsilon$', pmi3_indmul)\n"
   ]
  },
  {
   "cell_type": "code",
   "execution_count": 357,
   "id": "06ff089e-818e-410c-81bb-cbae34038fc6",
   "metadata": {},
   "outputs": [
    {
     "data": {
      "text/html": [
       "<div>\n",
       "<style scoped>\n",
       "    .dataframe tbody tr th:only-of-type {\n",
       "        vertical-align: middle;\n",
       "    }\n",
       "\n",
       "    .dataframe tbody tr th {\n",
       "        vertical-align: top;\n",
       "    }\n",
       "\n",
       "    .dataframe thead th {\n",
       "        text-align: right;\n",
       "    }\n",
       "</style>\n",
       "<table border=\"1\" class=\"dataframe\">\n",
       "  <thead>\n",
       "    <tr style=\"text-align: right;\">\n",
       "      <th></th>\n",
       "      <th>metric</th>\n",
       "      <th>correlation coef</th>\n",
       "    </tr>\n",
       "  </thead>\n",
       "  <tbody>\n",
       "    <tr>\n",
       "      <th>0</th>\n",
       "      <td>Newman_10</td>\n",
       "      <td>0.62</td>\n",
       "    </tr>\n",
       "    <tr>\n",
       "      <th>1</th>\n",
       "      <td>Newman_20</td>\n",
       "      <td>0.49</td>\n",
       "    </tr>\n",
       "    <tr>\n",
       "      <th>2</th>\n",
       "      <td>Newman_50</td>\n",
       "      <td>0.28</td>\n",
       "    </tr>\n",
       "    <tr>\n",
       "      <th>3</th>\n",
       "      <td>Newman_100</td>\n",
       "      <td>0.38</td>\n",
       "    </tr>\n",
       "    <tr>\n",
       "      <th>4</th>\n",
       "      <td>$PPMI, \\phi_u \\phi_v$</td>\n",
       "      <td>0.88</td>\n",
       "    </tr>\n",
       "    <tr>\n",
       "      <th>5</th>\n",
       "      <td>$PMI, \\phi_u \\phi_v$</td>\n",
       "      <td>0.52</td>\n",
       "    </tr>\n",
       "    <tr>\n",
       "      <th>6</th>\n",
       "      <td>$NPMI, \\phi_u \\phi_v$</td>\n",
       "      <td>-0.52</td>\n",
       "    </tr>\n",
       "    <tr>\n",
       "      <th>7</th>\n",
       "      <td>$PMI2, \\phi_u \\phi_v$</td>\n",
       "      <td>-0.27</td>\n",
       "    </tr>\n",
       "    <tr>\n",
       "      <th>8</th>\n",
       "      <td>$PMI3, \\phi_u \\phi_v$</td>\n",
       "      <td>-0.27</td>\n",
       "    </tr>\n",
       "    <tr>\n",
       "      <th>9</th>\n",
       "      <td>$PPMI, \\sqrt{\\phi_u \\phi_v}$</td>\n",
       "      <td>0.42</td>\n",
       "    </tr>\n",
       "    <tr>\n",
       "      <th>10</th>\n",
       "      <td>$PMI, \\sqrt{\\phi_u \\phi_v}$</td>\n",
       "      <td>0.54</td>\n",
       "    </tr>\n",
       "    <tr>\n",
       "      <th>11</th>\n",
       "      <td>$NPMI, \\sqrt{\\phi_u \\phi_v}$</td>\n",
       "      <td>-0.55</td>\n",
       "    </tr>\n",
       "    <tr>\n",
       "      <th>12</th>\n",
       "      <td>$PMI2, \\sqrt{\\phi_u \\phi_v}$</td>\n",
       "      <td>-0.26</td>\n",
       "    </tr>\n",
       "    <tr>\n",
       "      <th>13</th>\n",
       "      <td>$PMI3, \\sqrt{\\phi_u \\phi_v}$</td>\n",
       "      <td>-0.26</td>\n",
       "    </tr>\n",
       "    <tr>\n",
       "      <th>14</th>\n",
       "      <td>$PPMI, [\\phi_u &gt; 0][\\phi_v &gt; 0] (\\phi_u + \\phi...</td>\n",
       "      <td>0.68</td>\n",
       "    </tr>\n",
       "    <tr>\n",
       "      <th>15</th>\n",
       "      <td>$PMI, [\\phi_u &gt; 0][\\phi_v &gt; 0] (\\phi_u + \\phi_v)$</td>\n",
       "      <td>0.82</td>\n",
       "    </tr>\n",
       "    <tr>\n",
       "      <th>16</th>\n",
       "      <td>$NPMI, [\\phi_u &gt; 0][\\phi_v &gt; 0] (\\phi_u + \\phi...</td>\n",
       "      <td>-0.83</td>\n",
       "    </tr>\n",
       "    <tr>\n",
       "      <th>17</th>\n",
       "      <td>$PMI2, [\\phi_u &gt; 0][\\phi_v &gt; 0] (\\phi_u + \\phi...</td>\n",
       "      <td>-0.38</td>\n",
       "    </tr>\n",
       "    <tr>\n",
       "      <th>18</th>\n",
       "      <td>$PMI3, [\\phi_u &gt; 0][\\phi_v &gt; 0] (\\phi_u + \\phi...</td>\n",
       "      <td>-0.38</td>\n",
       "    </tr>\n",
       "    <tr>\n",
       "      <th>19</th>\n",
       "      <td>$PPMI, [\\phi_u \\phi_v] &gt; \\varepsilon$</td>\n",
       "      <td>0.33</td>\n",
       "    </tr>\n",
       "    <tr>\n",
       "      <th>20</th>\n",
       "      <td>$PMI, [\\phi_u \\phi_v] &gt; \\varepsilon$</td>\n",
       "      <td>0.32</td>\n",
       "    </tr>\n",
       "    <tr>\n",
       "      <th>21</th>\n",
       "      <td>$NPMI, [\\phi_u \\phi_v] &gt; \\varepsilon$</td>\n",
       "      <td>-0.32</td>\n",
       "    </tr>\n",
       "    <tr>\n",
       "      <th>22</th>\n",
       "      <td>$PMI2, [\\phi_u \\phi_v] &gt; \\varepsilon$</td>\n",
       "      <td>-0.32</td>\n",
       "    </tr>\n",
       "    <tr>\n",
       "      <th>23</th>\n",
       "      <td>$PMI3, [\\phi_u \\phi_v] &gt; \\varepsilon$</td>\n",
       "      <td>-0.32</td>\n",
       "    </tr>\n",
       "  </tbody>\n",
       "</table>\n",
       "</div>"
      ],
      "text/plain": [
       "                                               metric  correlation coef\n",
       "0                                           Newman_10              0.62\n",
       "1                                           Newman_20              0.49\n",
       "2                                           Newman_50              0.28\n",
       "3                                          Newman_100              0.38\n",
       "4                               $PPMI, \\phi_u \\phi_v$              0.88\n",
       "5                                $PMI, \\phi_u \\phi_v$              0.52\n",
       "6                               $NPMI, \\phi_u \\phi_v$             -0.52\n",
       "7                               $PMI2, \\phi_u \\phi_v$             -0.27\n",
       "8                               $PMI3, \\phi_u \\phi_v$             -0.27\n",
       "9                        $PPMI, \\sqrt{\\phi_u \\phi_v}$              0.42\n",
       "10                        $PMI, \\sqrt{\\phi_u \\phi_v}$              0.54\n",
       "11                       $NPMI, \\sqrt{\\phi_u \\phi_v}$             -0.55\n",
       "12                       $PMI2, \\sqrt{\\phi_u \\phi_v}$             -0.26\n",
       "13                       $PMI3, \\sqrt{\\phi_u \\phi_v}$             -0.26\n",
       "14  $PPMI, [\\phi_u > 0][\\phi_v > 0] (\\phi_u + \\phi...              0.68\n",
       "15  $PMI, [\\phi_u > 0][\\phi_v > 0] (\\phi_u + \\phi_v)$              0.82\n",
       "16  $NPMI, [\\phi_u > 0][\\phi_v > 0] (\\phi_u + \\phi...             -0.83\n",
       "17  $PMI2, [\\phi_u > 0][\\phi_v > 0] (\\phi_u + \\phi...             -0.38\n",
       "18  $PMI3, [\\phi_u > 0][\\phi_v > 0] (\\phi_u + \\phi...             -0.38\n",
       "19              $PPMI, [\\phi_u \\phi_v] > \\varepsilon$              0.33\n",
       "20               $PMI, [\\phi_u \\phi_v] > \\varepsilon$              0.32\n",
       "21              $NPMI, [\\phi_u \\phi_v] > \\varepsilon$             -0.32\n",
       "22              $PMI2, [\\phi_u \\phi_v] > \\varepsilon$             -0.32\n",
       "23              $PMI3, [\\phi_u \\phi_v] > \\varepsilon$             -0.32"
      ]
     },
     "execution_count": 357,
     "metadata": {},
     "output_type": "execute_result"
    }
   ],
   "source": [
    "ms.getCorrelationTable(inter[:10])"
   ]
  },
  {
   "cell_type": "code",
   "execution_count": 358,
   "id": "aaaaafa7-d2c9-4ab1-827f-b01444bb036d",
   "metadata": {},
   "outputs": [
    {
     "data": {
      "text/plain": [
       "Text(0, 0.5, 'Spearman correlation')"
      ]
     },
     "execution_count": 358,
     "metadata": {},
     "output_type": "execute_result"
    },
    {
     "data": {
      "image/png": "[encoded data removed]",
      "text/plain": [
       "<Figure size 1000x500 with 1 Axes>"
      ]
     },
     "metadata": {},
     "output_type": "display_data"
    }
   ],
   "source": [
    "plt.figure(figsize=(10, 5))\n",
    "plt.xticks(rotation=90)\n",
    "plt.bar(*ms.getCorrelationList(inter[:10]))\n",
    "plt.ylabel('Spearman correlation')"
   ]
  },
  {
   "cell_type": "code",
   "execution_count": 279,
   "id": "45585452-7439-4af7-a4de-3edbd7129d61",
   "metadata": {},
   "outputs": [],
   "source": [
    "ms.dumpJson(\"metrics.json\")"
   ]
  },
  {
   "cell_type": "code",
   "execution_count": null,
   "id": "eafd66ce-ff4b-4161-b7cb-bcb97a36a2ed",
   "metadata": {},
   "outputs": [],
   "source": []
  }
 ],
 "metadata": {
  "kernelspec": {
   "display_name": "Python 3 (ipykernel)",
   "language": "python",
   "name": "python3"
  },
  "language_info": {
   "codemirror_mode": {
    "name": "ipython",
    "version": 3
   },
   "file_extension": ".py",
   "mimetype": "text/x-python",
   "name": "python",
   "nbconvert_exporter": "python",
   "pygments_lexer": "ipython3",
   "version": "3.8.10"
  }
 },
 "nbformat": 4,
 "nbformat_minor": 5
}
